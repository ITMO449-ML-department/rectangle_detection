{
 "cells": [
  {
   "cell_type": "markdown",
   "metadata": {},
   "source": [
    "Importing necessery stuff"
   ]
  },
  {
   "cell_type": "code",
   "execution_count": 2,
   "metadata": {
    "datalore": {
     "hide_input_from_viewers": false,
     "hide_output_from_viewers": false,
     "node_id": "m29FF4dPJ7IEQ0ttpTtndB",
     "type": "CODE"
    },
    "pycharm": {
     "name": "#%%\n"
    }
   },
   "outputs": [],
   "source": [
    "import cv2\n",
    "import random\n",
    "from PIL import Image\n",
    "import numpy as np\n",
    "import math\n",
    "from matplotlib import pyplot as plt\n",
    "import time\n",
    "import json"
   ]
  },
  {
   "cell_type": "markdown",
   "metadata": {},
   "source": [
    "If this shit aint working, your cuda is probably fucked up"
   ]
  },
  {
   "cell_type": "code",
   "execution_count": 3,
   "metadata": {
    "pycharm": {
     "name": "#%%\n"
    }
   },
   "outputs": [],
   "source": [
    "import torch\n",
    "from torchsummary import summary\n",
    "from pathlib import Path"
   ]
  },
  {
   "cell_type": "markdown",
   "metadata": {
    "datalore": {
     "hide_input_from_viewers": false,
     "hide_output_from_viewers": false,
     "node_id": "4CBdmsKnks3EqZ5Aw1NsEa",
     "type": "MD"
    },
    "pycharm": {
     "name": "#%% md\n"
    }
   },
   "source": [
    "Creating dataset"
   ]
  },
  {
   "cell_type": "code",
   "execution_count": 4,
   "metadata": {},
   "outputs": [],
   "source": [
    "DATASET_NAME = \"Squares_new_2\""
   ]
  },
  {
   "cell_type": "markdown",
   "metadata": {},
   "source": [
    "Defining NN and creating instance of it"
   ]
  },
  {
   "cell_type": "code",
   "execution_count": 5,
   "metadata": {
    "datalore": {
     "hide_input_from_viewers": false,
     "hide_output_from_viewers": false,
     "node_id": "B2JHuXo3IoHBl8P3oIFGjd",
     "type": "CODE"
    },
    "pycharm": {
     "name": "#%%\n"
    }
   },
   "outputs": [
    {
     "data": {
      "text/plain": [
       "HuiNet(\n",
       "  (layers_list): ModuleList(\n",
       "    (0): Conv2d(1, 8, kernel_size=(8, 8), stride=(2, 2), padding=(3, 3))\n",
       "    (1): ReLU()\n",
       "    (2): MaxPool2d(kernel_size=2, stride=2, padding=0, dilation=1, ceil_mode=False)\n",
       "    (3): Conv2d(8, 16, kernel_size=(8, 8), stride=(2, 2), padding=(3, 3))\n",
       "    (4): ReLU()\n",
       "    (5): MaxPool2d(kernel_size=2, stride=2, padding=0, dilation=1, ceil_mode=False)\n",
       "    (6): Linear(in_features=4096, out_features=1000, bias=True)\n",
       "    (7): ReLU()\n",
       "    (8): Linear(in_features=1000, out_features=100, bias=True)\n",
       "    (9): Linear(in_features=100, out_features=100, bias=True)\n",
       "    (10): ReLU()\n",
       "    (11): Linear(in_features=100, out_features=100, bias=True)\n",
       "    (12): ReLU()\n",
       "    (13): Linear(in_features=100, out_features=100, bias=True)\n",
       "    (14): ReLU()\n",
       "    (15): Linear(in_features=100, out_features=100, bias=True)\n",
       "    (16): ReLU()\n",
       "    (17): Linear(in_features=100, out_features=100, bias=True)\n",
       "    (18): ReLU()\n",
       "    (19): Linear(in_features=100, out_features=100, bias=True)\n",
       "    (20): ReLU()\n",
       "    (21): Linear(in_features=100, out_features=100, bias=True)\n",
       "    (22): ReLU()\n",
       "    (23): Linear(in_features=100, out_features=5, bias=True)\n",
       "  )\n",
       ")"
      ]
     },
     "execution_count": 5,
     "metadata": {},
     "output_type": "execute_result"
    }
   ],
   "source": [
    "class HuiNet(torch.nn.Module):\n",
    "    def __init__(self):\n",
    "        super(HuiNet, self).__init__()\n",
    "        self.layers_indexes = dict()\n",
    "        self.conv_lays = [1, 8, 16]\n",
    "        counter = 0\n",
    "        self.layers_list = []\n",
    "        \n",
    "        num_convs = 2\n",
    "        num_fc = 10\n",
    "\n",
    "        for i in range(num_convs):\n",
    "            self.layers_list.append(torch.nn.Conv2d(in_channels=self.conv_lays[i], out_channels=self.conv_lays[\n",
    "                i + 1], kernel_size=8, padding=3, stride=2))\n",
    "            self.layers_indexes[\"cv\" + str(i + 1)] = counter\n",
    "            counter += 1\n",
    "            self.layers_list.append(torch.nn.ReLU())\n",
    "            self.layers_indexes[\"act\" + str(i + 1)] = counter\n",
    "            counter += 1\n",
    "            self.layers_list.append(torch.nn.MaxPool2d(kernel_size=2, stride=2))\n",
    "            self.layers_indexes[\"pool\" + str(i + 1)] = counter\n",
    "            counter += 1\n",
    "\n",
    "        self.layers_list.append(torch.nn.Linear(16*16*16, 1000))\n",
    "        self.layers_indexes['fc1'] = counter\n",
    "        counter += 1\n",
    "        self.layers_list.append(torch.nn.ReLU())\n",
    "        self.layers_indexes[f'act{num_convs + 1}'] = counter\n",
    "        counter += 1\n",
    "    \n",
    "        for i in range(1, num_fc):\n",
    "            if i == num_fc-1:\n",
    "                self.layers_list.append(torch.nn.Linear(100, 5))\n",
    "                self.layers_indexes[f\"fc{i+1}\"] = counter\n",
    "                counter += 1\n",
    "            elif i == 1:\n",
    "                self.layers_list.append(torch.nn.Linear(1000, 100))\n",
    "                self.layers_indexes[f\"fc{i+1}\"] = counter\n",
    "                counter += 1\n",
    "            else:\n",
    "                self.layers_list.append(torch.nn.Linear(100, 100))\n",
    "                self.layers_indexes[f\"fc{i+1}\"] = counter\n",
    "                counter += 1\n",
    "                self.layers_list.append(torch.nn.ReLU())\n",
    "                self.layers_indexes[f\"act{i+num_convs + 2}\"] = counter\n",
    "                counter += 1\n",
    "        self.layers_list = torch.nn.ModuleList(self.layers_list)\n",
    "\n",
    "    def forward(self, x):\n",
    "        for key in self.layers_indexes:\n",
    "            if key == \"fc1\":\n",
    "                x = x.view(x.size(0), x.size(1) * x.size(2) * x.size(3))\n",
    "            x = self.layers_list[self.layers_indexes[key]](x)\n",
    "        return x\n",
    "\n",
    "\n",
    "FOLDER_FOR_NETWORKS_EPOCH = \"states_29.08.22_try1\"\n",
    "Path(f\"States/{FOLDER_FOR_NETWORKS_EPOCH}\").mkdir(parents=True, exist_ok=True)\n",
    "\n",
    "huinet = HuiNet()\n",
    "\n",
    "start_epoch = 151\n",
    "\n",
    "if start_epoch != 1:\n",
    "    huinet.load_state_dict(torch.load(f\"States/{FOLDER_FOR_NETWORKS_EPOCH}/state{start_epoch-1}.txt\"))\n",
    "    huinet.eval()\n",
    "else:\n",
    "    dictForJson = dict()\n",
    "    for key in huinet.layers_indexes.keys():\n",
    "        dictForJson[key] = str(huinet.layers_list[huinet.layers_indexes[key]])\n",
    "    with open(f\"States/{FOLDER_FOR_NETWORKS_EPOCH}/0_model_description\", \"w\") as outfile:\n",
    "        json.dump(dictForJson, outfile)\n",
    "        \n",
    "huinet.float()\n"
   ]
  },
  {
   "cell_type": "code",
   "execution_count": 10,
   "metadata": {},
   "outputs": [
    {
     "ename": "RuntimeError",
     "evalue": "Input type (torch.cuda.FloatTensor) and weight type (torch.FloatTensor) should be the same",
     "output_type": "error",
     "traceback": [
      "\u001b[0;31m---------------------------------------------------------------------------\u001b[0m",
      "\u001b[0;31mRuntimeError\u001b[0m                              Traceback (most recent call last)",
      "\u001b[1;32m/home/youbot/Documents/KirillVlad/rectangle_detection-3.7.ipynb Cell 9\u001b[0m in \u001b[0;36m<cell line: 1>\u001b[0;34m()\u001b[0m\n\u001b[0;32m----> <a href='vscode-notebook-cell:/home/youbot/Documents/KirillVlad/rectangle_detection-3.7.ipynb#ch0000008?line=0'>1</a>\u001b[0m summary(huinet,(\u001b[39m1\u001b[39;49m,\u001b[39m256\u001b[39;49m,\u001b[39m256\u001b[39;49m))\n",
      "File \u001b[0;32m~/.local/lib/python3.8/site-packages/torchsummary/torchsummary.py:72\u001b[0m, in \u001b[0;36msummary\u001b[0;34m(model, input_size, batch_size, device)\u001b[0m\n\u001b[1;32m     68\u001b[0m model\u001b[39m.\u001b[39mapply(register_hook)\n\u001b[1;32m     70\u001b[0m \u001b[39m# make a forward pass\u001b[39;00m\n\u001b[1;32m     71\u001b[0m \u001b[39m# print(x.shape)\u001b[39;00m\n\u001b[0;32m---> 72\u001b[0m model(\u001b[39m*\u001b[39;49mx)\n\u001b[1;32m     74\u001b[0m \u001b[39m# remove these hooks\u001b[39;00m\n\u001b[1;32m     75\u001b[0m \u001b[39mfor\u001b[39;00m h \u001b[39min\u001b[39;00m hooks:\n",
      "File \u001b[0;32m~/.local/lib/python3.8/site-packages/torch/nn/modules/module.py:1130\u001b[0m, in \u001b[0;36mModule._call_impl\u001b[0;34m(self, *input, **kwargs)\u001b[0m\n\u001b[1;32m   1126\u001b[0m \u001b[39m# If we don't have any hooks, we want to skip the rest of the logic in\u001b[39;00m\n\u001b[1;32m   1127\u001b[0m \u001b[39m# this function, and just call forward.\u001b[39;00m\n\u001b[1;32m   1128\u001b[0m \u001b[39mif\u001b[39;00m \u001b[39mnot\u001b[39;00m (\u001b[39mself\u001b[39m\u001b[39m.\u001b[39m_backward_hooks \u001b[39mor\u001b[39;00m \u001b[39mself\u001b[39m\u001b[39m.\u001b[39m_forward_hooks \u001b[39mor\u001b[39;00m \u001b[39mself\u001b[39m\u001b[39m.\u001b[39m_forward_pre_hooks \u001b[39mor\u001b[39;00m _global_backward_hooks\n\u001b[1;32m   1129\u001b[0m         \u001b[39mor\u001b[39;00m _global_forward_hooks \u001b[39mor\u001b[39;00m _global_forward_pre_hooks):\n\u001b[0;32m-> 1130\u001b[0m     \u001b[39mreturn\u001b[39;00m forward_call(\u001b[39m*\u001b[39;49m\u001b[39minput\u001b[39;49m, \u001b[39m*\u001b[39;49m\u001b[39m*\u001b[39;49mkwargs)\n\u001b[1;32m   1131\u001b[0m \u001b[39m# Do not call functions when jit is used\u001b[39;00m\n\u001b[1;32m   1132\u001b[0m full_backward_hooks, non_full_backward_hooks \u001b[39m=\u001b[39m [], []\n",
      "\u001b[1;32m/home/youbot/Documents/KirillVlad/rectangle_detection-3.7.ipynb Cell 9\u001b[0m in \u001b[0;36mHuiNet.forward\u001b[0;34m(self, x)\u001b[0m\n\u001b[1;32m     <a href='vscode-notebook-cell:/home/youbot/Documents/KirillVlad/rectangle_detection-3.7.ipynb#ch0000008?line=50'>51</a>\u001b[0m     \u001b[39mif\u001b[39;00m key \u001b[39m==\u001b[39m \u001b[39m\"\u001b[39m\u001b[39mfc1\u001b[39m\u001b[39m\"\u001b[39m:\n\u001b[1;32m     <a href='vscode-notebook-cell:/home/youbot/Documents/KirillVlad/rectangle_detection-3.7.ipynb#ch0000008?line=51'>52</a>\u001b[0m         x \u001b[39m=\u001b[39m x\u001b[39m.\u001b[39mview(x\u001b[39m.\u001b[39msize(\u001b[39m0\u001b[39m), x\u001b[39m.\u001b[39msize(\u001b[39m1\u001b[39m) \u001b[39m*\u001b[39m x\u001b[39m.\u001b[39msize(\u001b[39m2\u001b[39m) \u001b[39m*\u001b[39m x\u001b[39m.\u001b[39msize(\u001b[39m3\u001b[39m))\n\u001b[0;32m---> <a href='vscode-notebook-cell:/home/youbot/Documents/KirillVlad/rectangle_detection-3.7.ipynb#ch0000008?line=52'>53</a>\u001b[0m     x \u001b[39m=\u001b[39m \u001b[39mself\u001b[39;49m\u001b[39m.\u001b[39;49mlayers_list[\u001b[39mself\u001b[39;49m\u001b[39m.\u001b[39;49mlayers_indexes[key]](x)\n\u001b[1;32m     <a href='vscode-notebook-cell:/home/youbot/Documents/KirillVlad/rectangle_detection-3.7.ipynb#ch0000008?line=53'>54</a>\u001b[0m \u001b[39mreturn\u001b[39;00m x\n",
      "File \u001b[0;32m~/.local/lib/python3.8/site-packages/torch/nn/modules/module.py:1148\u001b[0m, in \u001b[0;36mModule._call_impl\u001b[0;34m(self, *input, **kwargs)\u001b[0m\n\u001b[1;32m   1145\u001b[0m     bw_hook \u001b[39m=\u001b[39m hooks\u001b[39m.\u001b[39mBackwardHook(\u001b[39mself\u001b[39m, full_backward_hooks)\n\u001b[1;32m   1146\u001b[0m     \u001b[39minput\u001b[39m \u001b[39m=\u001b[39m bw_hook\u001b[39m.\u001b[39msetup_input_hook(\u001b[39minput\u001b[39m)\n\u001b[0;32m-> 1148\u001b[0m result \u001b[39m=\u001b[39m forward_call(\u001b[39m*\u001b[39;49m\u001b[39minput\u001b[39;49m, \u001b[39m*\u001b[39;49m\u001b[39m*\u001b[39;49mkwargs)\n\u001b[1;32m   1149\u001b[0m \u001b[39mif\u001b[39;00m _global_forward_hooks \u001b[39mor\u001b[39;00m \u001b[39mself\u001b[39m\u001b[39m.\u001b[39m_forward_hooks:\n\u001b[1;32m   1150\u001b[0m     \u001b[39mfor\u001b[39;00m hook \u001b[39min\u001b[39;00m (\u001b[39m*\u001b[39m_global_forward_hooks\u001b[39m.\u001b[39mvalues(), \u001b[39m*\u001b[39m\u001b[39mself\u001b[39m\u001b[39m.\u001b[39m_forward_hooks\u001b[39m.\u001b[39mvalues()):\n",
      "File \u001b[0;32m~/.local/lib/python3.8/site-packages/torch/nn/modules/conv.py:457\u001b[0m, in \u001b[0;36mConv2d.forward\u001b[0;34m(self, input)\u001b[0m\n\u001b[1;32m    456\u001b[0m \u001b[39mdef\u001b[39;00m \u001b[39mforward\u001b[39m(\u001b[39mself\u001b[39m, \u001b[39minput\u001b[39m: Tensor) \u001b[39m-\u001b[39m\u001b[39m>\u001b[39m Tensor:\n\u001b[0;32m--> 457\u001b[0m     \u001b[39mreturn\u001b[39;00m \u001b[39mself\u001b[39;49m\u001b[39m.\u001b[39;49m_conv_forward(\u001b[39minput\u001b[39;49m, \u001b[39mself\u001b[39;49m\u001b[39m.\u001b[39;49mweight, \u001b[39mself\u001b[39;49m\u001b[39m.\u001b[39;49mbias)\n",
      "File \u001b[0;32m~/.local/lib/python3.8/site-packages/torch/nn/modules/conv.py:453\u001b[0m, in \u001b[0;36mConv2d._conv_forward\u001b[0;34m(self, input, weight, bias)\u001b[0m\n\u001b[1;32m    449\u001b[0m \u001b[39mif\u001b[39;00m \u001b[39mself\u001b[39m\u001b[39m.\u001b[39mpadding_mode \u001b[39m!=\u001b[39m \u001b[39m'\u001b[39m\u001b[39mzeros\u001b[39m\u001b[39m'\u001b[39m:\n\u001b[1;32m    450\u001b[0m     \u001b[39mreturn\u001b[39;00m F\u001b[39m.\u001b[39mconv2d(F\u001b[39m.\u001b[39mpad(\u001b[39minput\u001b[39m, \u001b[39mself\u001b[39m\u001b[39m.\u001b[39m_reversed_padding_repeated_twice, mode\u001b[39m=\u001b[39m\u001b[39mself\u001b[39m\u001b[39m.\u001b[39mpadding_mode),\n\u001b[1;32m    451\u001b[0m                     weight, bias, \u001b[39mself\u001b[39m\u001b[39m.\u001b[39mstride,\n\u001b[1;32m    452\u001b[0m                     _pair(\u001b[39m0\u001b[39m), \u001b[39mself\u001b[39m\u001b[39m.\u001b[39mdilation, \u001b[39mself\u001b[39m\u001b[39m.\u001b[39mgroups)\n\u001b[0;32m--> 453\u001b[0m \u001b[39mreturn\u001b[39;00m F\u001b[39m.\u001b[39;49mconv2d(\u001b[39minput\u001b[39;49m, weight, bias, \u001b[39mself\u001b[39;49m\u001b[39m.\u001b[39;49mstride,\n\u001b[1;32m    454\u001b[0m                 \u001b[39mself\u001b[39;49m\u001b[39m.\u001b[39;49mpadding, \u001b[39mself\u001b[39;49m\u001b[39m.\u001b[39;49mdilation, \u001b[39mself\u001b[39;49m\u001b[39m.\u001b[39;49mgroups)\n",
      "\u001b[0;31mRuntimeError\u001b[0m: Input type (torch.cuda.FloatTensor) and weight type (torch.FloatTensor) should be the same"
     ]
    }
   ],
   "source": [
    "summary(huinet,(1,256,256))"
   ]
  },
  {
   "cell_type": "markdown",
   "metadata": {},
   "source": [
    "Custom loss"
   ]
  },
  {
   "cell_type": "code",
   "execution_count": 6,
   "metadata": {
    "datalore": {
     "hide_input_from_viewers": false,
     "hide_output_from_viewers": false,
     "node_id": "VTmywbWtTlSDoeXFMywXhV",
     "type": "CODE"
    },
    "pycharm": {
     "name": "#%%\n"
    }
   },
   "outputs": [],
   "source": [
    "PARAMS = {\n",
    "    \"dist_loss\": 1,\n",
    "    \"size_loss\": 1,\n",
    "    \"angle_loss\": 1\n",
    "}\n",
    "\n",
    "mse_loss = torch.nn.MSELoss()\n",
    "\n",
    "def my_greatest_loss(target, result, params,tensor_board = None, N = -1, print_state=False):\n",
    "    global mse_loss\n",
    "\n",
    "    errs = torch.empty_like(target).to(torch.device('cuda:0' if torch.cuda.is_available() else 'cpu'))\n",
    "    errs = target - result\n",
    "    errs /= torch.tensor([255, 255, 255, 255, 180]).to(torch.device('cuda:0' if torch.cuda.is_available() else 'cpu'))\n",
    "    # errs = torch.nn.functional.normalize(errs)\n",
    "    loss_dist = (errs[:,0] ** 2 + errs[:,1] ** 2) * params.get(\"dist_loss\")\n",
    "    loss_size = (errs[:,2] **2 + errs[:,3]**2) * params.get(\"size_loss\")\n",
    "    loss_angle = errs[:,4] ** 2 * params.get(\"angle_loss\")\n",
    "    # loss = np.sum(np.linalg.norm(errs.cpu().detach(), axis=0)**2)\n",
    "    if print_state:\n",
    "        print(f\"Distance loss: {torch.mean(loss_dist)} Size loss: {torch.mean(loss_size)} Angle loss: {torch.mean(loss_angle)}\")\n",
    "    loss_ = loss_dist + loss_size + loss_angle\n",
    "    if N != -1:\n",
    "        tensor_board.add_scalar(\"loss_dist\",loss_dist.sum(), N)\n",
    "        tensor_board.add_scalar(\"loss_size\",loss_size.sum(), N)\n",
    "        tensor_board.add_scalar(\"loss_angle\",loss_angle.sum(), N)\n",
    "    del errs\n",
    "    torch.cuda.empty_cache()\n",
    "    return loss_.sum()"
   ]
  },
  {
   "cell_type": "markdown",
   "metadata": {},
   "source": [
    "To GPU if avaliable"
   ]
  },
  {
   "cell_type": "code",
   "execution_count": 7,
   "metadata": {
    "datalore": {
     "hide_input_from_viewers": false,
     "hide_output_from_viewers": false,
     "node_id": "9CIXLn1sITrG8bn8JJgVq7",
     "type": "CODE"
    },
    "pycharm": {
     "name": "#%%\n"
    }
   },
   "outputs": [
    {
     "data": {
      "text/plain": [
       "device(type='cuda', index=0)"
      ]
     },
     "execution_count": 7,
     "metadata": {},
     "output_type": "execute_result"
    }
   ],
   "source": [
    "device = torch.device('cuda:0' if torch.cuda.is_available() else 'cpu')\n",
    "huinet = huinet.to(device)\n",
    "device"
   ]
  },
  {
   "cell_type": "markdown",
   "metadata": {},
   "source": [
    "Setting loss and optimizer"
   ]
  },
  {
   "cell_type": "code",
   "execution_count": 8,
   "metadata": {
    "datalore": {
     "hide_input_from_viewers": false,
     "hide_output_from_viewers": false,
     "node_id": "EZGeNvuEpOSaQs5xYOcNDr",
     "type": "CODE"
    },
    "pycharm": {
     "name": "#%%\n"
    }
   },
   "outputs": [],
   "source": [
    "# loss = my_greatest_loss\n",
    "loss = torch.nn.MSELoss()\n",
    "optimizer = torch.optim.Adam(huinet.parameters(), lr=1.0e-3)"
   ]
  },
  {
   "cell_type": "markdown",
   "metadata": {},
   "source": [
    "Getting test dataset"
   ]
  },
  {
   "cell_type": "code",
   "execution_count": 9,
   "metadata": {
    "datalore": {
     "hide_input_from_viewers": false,
     "hide_output_from_viewers": false,
     "node_id": "aQnCp79InIq0lXUgHxjPdQ",
     "type": "CODE"
    },
    "pycharm": {
     "name": "#%%\n"
    }
   },
   "outputs": [
    {
     "name": "stdout",
     "output_type": "stream",
     "text": [
      "50000\n"
     ]
    },
    {
     "name": "stderr",
     "output_type": "stream",
     "text": [
      "/home/youbot/.local/lib/python3.8/site-packages/torch/_tensor.py:586: UserWarning: non-inplace resize is deprecated\n",
      "  warnings.warn(\"non-inplace resize is deprecated\")\n"
     ]
    }
   ],
   "source": [
    "f = open(f\"Datasets/{DATASET_NAME}/labels.txt\")\n",
    "f = f.readlines()\n",
    "N = len(f)\n",
    "print(N)\n",
    "N_test = math.floor(0.98 * N)\n",
    "\n",
    "X_test = torch.zeros((N - N_test, 1, 256, 256))\n",
    "y_test = torch.zeros(N - N_test, 5)\n",
    "\n",
    "for i in range(N_test, N):\n",
    "    name, label = f[i].split()\n",
    "    label = torch.tensor(list(map(int, label.split(\"_\"))))\n",
    "    y_test[i - N_test] += label\n",
    "    img = Image.open(f\"Datasets/{DATASET_NAME}/\" + name)\n",
    "    X_test[i - N_test] += torch.tensor(np.asarray(img)).resize(3, 256, 256)[0, :]"
   ]
  },
  {
   "cell_type": "markdown",
   "metadata": {},
   "source": [
    "Importing torchision for beatiful graphs"
   ]
  },
  {
   "cell_type": "code",
   "execution_count": 10,
   "metadata": {},
   "outputs": [],
   "source": [
    "import torchvision\n",
    "import torchvision.transforms as transforms\n",
    "from torch.utils.tensorboard import SummaryWriter\n",
    "from itertools import product\n",
    "from tqdm import tqdm"
   ]
  },
  {
   "cell_type": "markdown",
   "metadata": {},
   "source": [
    "Learning process. Each epoch is saved "
   ]
  },
  {
   "cell_type": "code",
   "execution_count": 16,
   "metadata": {
    "datalore": {
     "hide_input_from_viewers": false,
     "hide_output_from_viewers": false,
     "node_id": "cnAgpL8Lz3juoY7QK7BGws",
     "type": "CODE"
    },
    "pycharm": {
     "name": "#%%\n"
    }
   },
   "outputs": [
    {
     "name": "stderr",
     "output_type": "stream",
     "text": [
      "                                                   \r"
     ]
    },
    {
     "name": "stdout",
     "output_type": "stream",
     "text": [
      "Epoch: 1/1000 Accuracy: 0.03423037761509166 Time:136.731614112854 Last loss: 11764.80859375\n"
     ]
    },
    {
     "name": "stderr",
     "output_type": "stream",
     "text": [
      "                                                   \r"
     ]
    },
    {
     "name": "stdout",
     "output_type": "stream",
     "text": [
      "Epoch: 2/1000 Accuracy: 0.02652676767750801 Time:119.02345299720764 Last loss: 11847.4990234375\n"
     ]
    },
    {
     "name": "stderr",
     "output_type": "stream",
     "text": [
      "                                                   \r"
     ]
    },
    {
     "name": "stdout",
     "output_type": "stream",
     "text": [
      "Epoch: 3/1000 Accuracy: 0.02497923405676195 Time:117.42192363739014 Last loss: 11946.828125\n"
     ]
    },
    {
     "name": "stderr",
     "output_type": "stream",
     "text": [
      "                                                   \r"
     ]
    },
    {
     "name": "stdout",
     "output_type": "stream",
     "text": [
      "Epoch: 4/1000 Accuracy: 0.02403559592448192 Time:113.8514461517334 Last loss: 11902.37109375\n"
     ]
    },
    {
     "name": "stderr",
     "output_type": "stream",
     "text": [
      "                                                   \r"
     ]
    },
    {
     "name": "stdout",
     "output_type": "stream",
     "text": [
      "Epoch: 5/1000 Accuracy: 0.023248173726842396 Time:110.10190653800964 Last loss: 12064.1181640625\n"
     ]
    },
    {
     "name": "stderr",
     "output_type": "stream",
     "text": [
      "                                                   \r"
     ]
    },
    {
     "name": "stdout",
     "output_type": "stream",
     "text": [
      "Epoch: 6/1000 Accuracy: 0.022613507468366482 Time:110.09468293190002 Last loss: 12192.111328125\n"
     ]
    },
    {
     "name": "stderr",
     "output_type": "stream",
     "text": [
      "                                                   \r"
     ]
    },
    {
     "name": "stdout",
     "output_type": "stream",
     "text": [
      "Epoch: 7/1000 Accuracy: 0.022151708192582123 Time:110.251460313797 Last loss: 12125.9697265625\n"
     ]
    },
    {
     "name": "stderr",
     "output_type": "stream",
     "text": [
      "                                                   \r"
     ]
    },
    {
     "name": "stdout",
     "output_type": "stream",
     "text": [
      "Epoch: 8/1000 Accuracy: 0.02162485517524341 Time:110.79515099525452 Last loss: 12136.6865234375\n"
     ]
    },
    {
     "name": "stderr",
     "output_type": "stream",
     "text": [
      "                                                   \r"
     ]
    },
    {
     "name": "stdout",
     "output_type": "stream",
     "text": [
      "Epoch: 9/1000 Accuracy: 0.021470845602616945 Time:110.51773881912231 Last loss: 11925.248046875\n"
     ]
    },
    {
     "name": "stderr",
     "output_type": "stream",
     "text": [
      "                                                   \r"
     ]
    },
    {
     "name": "stdout",
     "output_type": "stream",
     "text": [
      "Epoch: 10/1000 Accuracy: 0.020869687429762748 Time:111.19342112541199 Last loss: 12199.85546875\n"
     ]
    },
    {
     "name": "stderr",
     "output_type": "stream",
     "text": [
      "                                                   \r"
     ]
    },
    {
     "name": "stdout",
     "output_type": "stream",
     "text": [
      "Epoch: 11/1000 Accuracy: 0.02041177492232405 Time:110.05143523216248 Last loss: 12447.685546875\n"
     ]
    },
    {
     "name": "stderr",
     "output_type": "stream",
     "text": [
      "                                                   \r"
     ]
    },
    {
     "name": "stdout",
     "output_type": "stream",
     "text": [
      "Epoch: 12/1000 Accuracy: 0.020066019425389377 Time:111.06246733665466 Last loss: 12728.7705078125\n"
     ]
    },
    {
     "name": "stderr",
     "output_type": "stream",
     "text": [
      "                                                   \r"
     ]
    },
    {
     "name": "stdout",
     "output_type": "stream",
     "text": [
      "Epoch: 13/1000 Accuracy: 0.019753554894294256 Time:110.38888716697693 Last loss: 12579.740234375\n"
     ]
    },
    {
     "name": "stderr",
     "output_type": "stream",
     "text": [
      "                                                   \r"
     ]
    },
    {
     "name": "stdout",
     "output_type": "stream",
     "text": [
      "Epoch: 14/1000 Accuracy: 0.019518932050329348 Time:110.103524684906 Last loss: 12776.912109375\n"
     ]
    },
    {
     "name": "stderr",
     "output_type": "stream",
     "text": [
      "                                                   \r"
     ]
    },
    {
     "name": "stdout",
     "output_type": "stream",
     "text": [
      "Epoch: 15/1000 Accuracy: 0.019402379548153405 Time:110.40166759490967 Last loss: 12730.01171875\n"
     ]
    },
    {
     "name": "stderr",
     "output_type": "stream",
     "text": [
      "                                                   \r"
     ]
    },
    {
     "name": "stdout",
     "output_type": "stream",
     "text": [
      "Epoch: 16/1000 Accuracy: 0.01920438834660332 Time:111.48254537582397 Last loss: 12744.08984375\n"
     ]
    },
    {
     "name": "stderr",
     "output_type": "stream",
     "text": [
      "                                                   \r"
     ]
    },
    {
     "name": "stdout",
     "output_type": "stream",
     "text": [
      "Epoch: 17/1000 Accuracy: 0.01902360803700942 Time:110.54919195175171 Last loss: 12924.380859375\n"
     ]
    },
    {
     "name": "stderr",
     "output_type": "stream",
     "text": [
      "                                                   \r"
     ]
    },
    {
     "name": "stdout",
     "output_type": "stream",
     "text": [
      "Epoch: 18/1000 Accuracy: 0.01887334421626102 Time:110.3445737361908 Last loss: 12842.5087890625\n"
     ]
    },
    {
     "name": "stderr",
     "output_type": "stream",
     "text": [
      "                                                   \r"
     ]
    },
    {
     "name": "stdout",
     "output_type": "stream",
     "text": [
      "Epoch: 19/1000 Accuracy: 0.018822703011111375 Time:110.06913828849792 Last loss: 12901.115234375\n"
     ]
    },
    {
     "name": "stderr",
     "output_type": "stream",
     "text": [
      "                                                   \r"
     ]
    },
    {
     "name": "stdout",
     "output_type": "stream",
     "text": [
      "Epoch: 20/1000 Accuracy: 0.018748081063774485 Time:112.24248623847961 Last loss: 12714.2744140625\n"
     ]
    },
    {
     "name": "stderr",
     "output_type": "stream",
     "text": [
      "                                                   \r"
     ]
    },
    {
     "name": "stdout",
     "output_type": "stream",
     "text": [
      "Epoch: 21/1000 Accuracy: 0.018599665610024227 Time:110.43641209602356 Last loss: 13000.9658203125\n"
     ]
    },
    {
     "name": "stderr",
     "output_type": "stream",
     "text": [
      "                                                   \r"
     ]
    },
    {
     "name": "stdout",
     "output_type": "stream",
     "text": [
      "Epoch: 22/1000 Accuracy: 0.018479985905427473 Time:110.26273798942566 Last loss: 13063.283203125\n"
     ]
    },
    {
     "name": "stderr",
     "output_type": "stream",
     "text": [
      "                                                   \r"
     ]
    },
    {
     "name": "stdout",
     "output_type": "stream",
     "text": [
      "Epoch: 23/1000 Accuracy: 0.018454161344155052 Time:110.2473783493042 Last loss: 13093.8369140625\n"
     ]
    },
    {
     "name": "stderr",
     "output_type": "stream",
     "text": [
      "                                                   \r"
     ]
    },
    {
     "name": "stdout",
     "output_type": "stream",
     "text": [
      "Epoch: 24/1000 Accuracy: 0.018349907616377753 Time:110.16481494903564 Last loss: 13071.0341796875\n"
     ]
    },
    {
     "name": "stderr",
     "output_type": "stream",
     "text": [
      "                                                   \r"
     ]
    },
    {
     "name": "stdout",
     "output_type": "stream",
     "text": [
      "Epoch: 25/1000 Accuracy: 0.018301750795682817 Time:112.32425737380981 Last loss: 13153.181640625\n"
     ]
    },
    {
     "name": "stderr",
     "output_type": "stream",
     "text": [
      "                                                   \r"
     ]
    },
    {
     "name": "stdout",
     "output_type": "stream",
     "text": [
      "Epoch: 26/1000 Accuracy: 0.018196287655845952 Time:110.51639676094055 Last loss: 13303.76171875\n"
     ]
    },
    {
     "name": "stderr",
     "output_type": "stream",
     "text": [
      "                                                   \r"
     ]
    },
    {
     "name": "stdout",
     "output_type": "stream",
     "text": [
      "Epoch: 27/1000 Accuracy: 0.01821708083759362 Time:110.17199158668518 Last loss: 13358.69921875\n"
     ]
    },
    {
     "name": "stderr",
     "output_type": "stream",
     "text": [
      "                                                   \r"
     ]
    },
    {
     "name": "stdout",
     "output_type": "stream",
     "text": [
      "Epoch: 28/1000 Accuracy: 0.018141793998835806 Time:110.31466698646545 Last loss: 13388.9814453125\n"
     ]
    },
    {
     "name": "stderr",
     "output_type": "stream",
     "text": [
      "                                                   \r"
     ]
    },
    {
     "name": "stdout",
     "output_type": "stream",
     "text": [
      "Epoch: 29/1000 Accuracy: 0.01812276543468332 Time:110.29986310005188 Last loss: 13274.291015625\n"
     ]
    },
    {
     "name": "stderr",
     "output_type": "stream",
     "text": [
      "                                                   \r"
     ]
    },
    {
     "name": "stdout",
     "output_type": "stream",
     "text": [
      "Epoch: 30/1000 Accuracy: 0.01809225822326101 Time:110.32321548461914 Last loss: 13135.94140625\n"
     ]
    },
    {
     "name": "stderr",
     "output_type": "stream",
     "text": [
      "                                                   \r"
     ]
    },
    {
     "name": "stdout",
     "output_type": "stream",
     "text": [
      "Epoch: 31/1000 Accuracy: 0.018041631557750345 Time:112.81814742088318 Last loss: 13219.5625\n"
     ]
    },
    {
     "name": "stderr",
     "output_type": "stream",
     "text": [
      "                                                   \r"
     ]
    },
    {
     "name": "stdout",
     "output_type": "stream",
     "text": [
      "Epoch: 32/1000 Accuracy: 0.01809684534040573 Time:110.4972174167633 Last loss: 13184.6552734375\n"
     ]
    },
    {
     "name": "stderr",
     "output_type": "stream",
     "text": [
      "                                                   \r"
     ]
    },
    {
     "name": "stdout",
     "output_type": "stream",
     "text": [
      "Epoch: 33/1000 Accuracy: 0.01797080208022005 Time:110.2036063671112 Last loss: 13296.01953125\n"
     ]
    },
    {
     "name": "stderr",
     "output_type": "stream",
     "text": [
      "                                                   \r"
     ]
    },
    {
     "name": "stdout",
     "output_type": "stream",
     "text": [
      "Epoch: 34/1000 Accuracy: 0.017991784273853832 Time:110.53580617904663 Last loss: 13162.216796875\n"
     ]
    },
    {
     "name": "stderr",
     "output_type": "stream",
     "text": [
      "                                                   \r"
     ]
    },
    {
     "name": "stdout",
     "output_type": "stream",
     "text": [
      "Epoch: 35/1000 Accuracy: 0.01788513486013923 Time:110.80805993080139 Last loss: 13291.79296875\n"
     ]
    },
    {
     "name": "stderr",
     "output_type": "stream",
     "text": [
      "                                                   \r"
     ]
    },
    {
     "name": "stdout",
     "output_type": "stream",
     "text": [
      "Epoch: 36/1000 Accuracy: 0.017917699752168118 Time:110.63080167770386 Last loss: 13394.7666015625\n"
     ]
    },
    {
     "name": "stderr",
     "output_type": "stream",
     "text": [
      "                                                   \r"
     ]
    },
    {
     "name": "stdout",
     "output_type": "stream",
     "text": [
      "Epoch: 37/1000 Accuracy: 0.017900210263182014 Time:110.17697381973267 Last loss: 13218.09765625\n"
     ]
    },
    {
     "name": "stderr",
     "output_type": "stream",
     "text": [
      "                                                   \r"
     ]
    },
    {
     "name": "stdout",
     "output_type": "stream",
     "text": [
      "Epoch: 38/1000 Accuracy: 0.01787269495091931 Time:110.36131525039673 Last loss: 13129.037109375\n"
     ]
    },
    {
     "name": "stderr",
     "output_type": "stream",
     "text": [
      "                                                   \r"
     ]
    },
    {
     "name": "stdout",
     "output_type": "stream",
     "text": [
      "Epoch: 39/1000 Accuracy: 0.017828959354205247 Time:114.11046433448792 Last loss: 13017.61328125\n"
     ]
    },
    {
     "name": "stderr",
     "output_type": "stream",
     "text": [
      "                                                   \r"
     ]
    },
    {
     "name": "stdout",
     "output_type": "stream",
     "text": [
      "Epoch: 40/1000 Accuracy: 0.017833051024995432 Time:110.1187686920166 Last loss: 13162.7802734375\n"
     ]
    },
    {
     "name": "stderr",
     "output_type": "stream",
     "text": [
      "                                                   \r"
     ]
    },
    {
     "name": "stdout",
     "output_type": "stream",
     "text": [
      "Epoch: 41/1000 Accuracy: 0.017826800596366058 Time:110.32862901687622 Last loss: 13053.673828125\n"
     ]
    },
    {
     "name": "stderr",
     "output_type": "stream",
     "text": [
      "                                                   \r"
     ]
    },
    {
     "name": "stdout",
     "output_type": "stream",
     "text": [
      "Epoch: 42/1000 Accuracy: 0.017821749536684826 Time:110.31411862373352 Last loss: 13101.2216796875\n"
     ]
    },
    {
     "name": "stderr",
     "output_type": "stream",
     "text": [
      "                                                   \r"
     ]
    },
    {
     "name": "stdout",
     "output_type": "stream",
     "text": [
      "Epoch: 43/1000 Accuracy: 0.01784955029171526 Time:110.33592414855957 Last loss: 13081.59375\n"
     ]
    },
    {
     "name": "stderr",
     "output_type": "stream",
     "text": [
      "                                                   \r"
     ]
    },
    {
     "name": "stdout",
     "output_type": "stream",
     "text": [
      "Epoch: 44/1000 Accuracy: 0.017799429386660185 Time:110.5717601776123 Last loss: 13283.1318359375\n"
     ]
    },
    {
     "name": "stderr",
     "output_type": "stream",
     "text": [
      "                                                   \r"
     ]
    },
    {
     "name": "stdout",
     "output_type": "stream",
     "text": [
      "Epoch: 45/1000 Accuracy: 0.0177253769759917 Time:110.18598294258118 Last loss: 13416.7041015625\n"
     ]
    },
    {
     "name": "stderr",
     "output_type": "stream",
     "text": [
      "                                                   \r"
     ]
    },
    {
     "name": "stdout",
     "output_type": "stream",
     "text": [
      "Epoch: 46/1000 Accuracy: 0.017808506951308277 Time:110.52300310134888 Last loss: 13202.2666015625\n"
     ]
    },
    {
     "name": "stderr",
     "output_type": "stream",
     "text": [
      "                                                   \r"
     ]
    },
    {
     "name": "stdout",
     "output_type": "stream",
     "text": [
      "Epoch: 47/1000 Accuracy: 0.01774205488021754 Time:110.80646443367004 Last loss: 13018.6474609375\n"
     ]
    },
    {
     "name": "stderr",
     "output_type": "stream",
     "text": [
      "                                                   \r"
     ]
    },
    {
     "name": "stdout",
     "output_type": "stream",
     "text": [
      "Epoch: 48/1000 Accuracy: 0.01777184141846632 Time:114.0908305644989 Last loss: 13112.8544921875\n"
     ]
    },
    {
     "name": "stderr",
     "output_type": "stream",
     "text": [
      "                                                   \r"
     ]
    },
    {
     "name": "stdout",
     "output_type": "stream",
     "text": [
      "Epoch: 49/1000 Accuracy: 0.017704545037177555 Time:110.56559658050537 Last loss: 13240.1484375\n"
     ]
    },
    {
     "name": "stderr",
     "output_type": "stream",
     "text": [
      "                                                   \r"
     ]
    },
    {
     "name": "stdout",
     "output_type": "stream",
     "text": [
      "Epoch: 50/1000 Accuracy: 0.017806749622156 Time:110.3178083896637 Last loss: 13220.9697265625\n"
     ]
    },
    {
     "name": "stderr",
     "output_type": "stream",
     "text": [
      "                                                   \r"
     ]
    },
    {
     "name": "stdout",
     "output_type": "stream",
     "text": [
      "Epoch: 51/1000 Accuracy: 0.017725977060983125 Time:110.55116367340088 Last loss: 13227.98046875\n"
     ]
    },
    {
     "name": "stderr",
     "output_type": "stream",
     "text": [
      "                                                   \r"
     ]
    },
    {
     "name": "stdout",
     "output_type": "stream",
     "text": [
      "Epoch: 52/1000 Accuracy: 0.01776831123827088 Time:110.17380499839783 Last loss: 13324.669921875\n"
     ]
    },
    {
     "name": "stderr",
     "output_type": "stream",
     "text": [
      "                                                   \r"
     ]
    },
    {
     "name": "stdout",
     "output_type": "stream",
     "text": [
      "Epoch: 53/1000 Accuracy: 0.01772044399261251 Time:110.61215305328369 Last loss: 13330.4609375\n"
     ]
    },
    {
     "name": "stderr",
     "output_type": "stream",
     "text": [
      "                                                   \r"
     ]
    },
    {
     "name": "stdout",
     "output_type": "stream",
     "text": [
      "Epoch: 54/1000 Accuracy: 0.017698230687300805 Time:110.56948471069336 Last loss: 13418.5546875\n"
     ]
    },
    {
     "name": "stderr",
     "output_type": "stream",
     "text": [
      "                                                   \r"
     ]
    },
    {
     "name": "stdout",
     "output_type": "stream",
     "text": [
      "Epoch: 55/1000 Accuracy: 0.017719354970946816 Time:110.61070895195007 Last loss: 13270.92578125\n"
     ]
    },
    {
     "name": "stderr",
     "output_type": "stream",
     "text": [
      "                                                   \r"
     ]
    },
    {
     "name": "stdout",
     "output_type": "stream",
     "text": [
      "Epoch: 56/1000 Accuracy: 0.017693760230622812 Time:110.56786179542542 Last loss: 13268.943359375\n"
     ]
    },
    {
     "name": "stderr",
     "output_type": "stream",
     "text": [
      "                                                   \r"
     ]
    },
    {
     "name": "stdout",
     "output_type": "stream",
     "text": [
      "Epoch: 57/1000 Accuracy: 0.017689708596137402 Time:110.71957516670227 Last loss: 13192.03125\n"
     ]
    },
    {
     "name": "stderr",
     "output_type": "stream",
     "text": [
      "                                                   \r"
     ]
    },
    {
     "name": "stdout",
     "output_type": "stream",
     "text": [
      "Epoch: 58/1000 Accuracy: 0.017662852858159772 Time:110.71144151687622 Last loss: 13409.6796875\n"
     ]
    },
    {
     "name": "stderr",
     "output_type": "stream",
     "text": [
      "                                                   \r"
     ]
    },
    {
     "name": "stdout",
     "output_type": "stream",
     "text": [
      "Epoch: 59/1000 Accuracy: 0.01765915053919258 Time:110.61972570419312 Last loss: 13300.7568359375\n"
     ]
    },
    {
     "name": "stderr",
     "output_type": "stream",
     "text": [
      "                                                   \r"
     ]
    },
    {
     "name": "stdout",
     "output_type": "stream",
     "text": [
      "Epoch: 60/1000 Accuracy: 0.017695221959266944 Time:110.58656740188599 Last loss: 13145.095703125\n"
     ]
    },
    {
     "name": "stderr",
     "output_type": "stream",
     "text": [
      "                                                   \r"
     ]
    },
    {
     "name": "stdout",
     "output_type": "stream",
     "text": [
      "Epoch: 61/1000 Accuracy: 0.017733853519156847 Time:115.07748937606812 Last loss: 13319.0927734375\n"
     ]
    },
    {
     "name": "stderr",
     "output_type": "stream",
     "text": [
      "                                                   \r"
     ]
    },
    {
     "name": "stdout",
     "output_type": "stream",
     "text": [
      "Epoch: 62/1000 Accuracy: 0.01763011761155792 Time:110.55942058563232 Last loss: 13393.515625\n"
     ]
    },
    {
     "name": "stderr",
     "output_type": "stream",
     "text": [
      "                                                   \r"
     ]
    },
    {
     "name": "stdout",
     "output_type": "stream",
     "text": [
      "Epoch: 63/1000 Accuracy: 0.017670307097420793 Time:110.5129759311676 Last loss: 13611.51171875\n"
     ]
    },
    {
     "name": "stderr",
     "output_type": "stream",
     "text": [
      "                                                   \r"
     ]
    },
    {
     "name": "stdout",
     "output_type": "stream",
     "text": [
      "Epoch: 64/1000 Accuracy: 0.017622793000510707 Time:110.3475694656372 Last loss: 13384.6748046875\n"
     ]
    },
    {
     "name": "stderr",
     "output_type": "stream",
     "text": [
      "                                                   \r"
     ]
    },
    {
     "name": "stdout",
     "output_type": "stream",
     "text": [
      "Epoch: 65/1000 Accuracy: 0.01764566001958611 Time:110.60029196739197 Last loss: 13413.767578125\n"
     ]
    },
    {
     "name": "stderr",
     "output_type": "stream",
     "text": [
      "                                                   \r"
     ]
    },
    {
     "name": "stdout",
     "output_type": "stream",
     "text": [
      "Epoch: 66/1000 Accuracy: 0.017624792713850403 Time:110.56117415428162 Last loss: 13394.486328125\n"
     ]
    },
    {
     "name": "stderr",
     "output_type": "stream",
     "text": [
      "                                                   \r"
     ]
    },
    {
     "name": "stdout",
     "output_type": "stream",
     "text": [
      "Epoch: 67/1000 Accuracy: 0.017658133636419687 Time:110.45182013511658 Last loss: 13364.953125\n"
     ]
    },
    {
     "name": "stderr",
     "output_type": "stream",
     "text": [
      "                                                   \r"
     ]
    },
    {
     "name": "stdout",
     "output_type": "stream",
     "text": [
      "Epoch: 68/1000 Accuracy: 0.017606615290088914 Time:110.65235018730164 Last loss: 13380.6767578125\n"
     ]
    },
    {
     "name": "stderr",
     "output_type": "stream",
     "text": [
      "                                                   \r"
     ]
    },
    {
     "name": "stdout",
     "output_type": "stream",
     "text": [
      "Epoch: 69/1000 Accuracy: 0.017602492119053362 Time:110.62961888313293 Last loss: 13364.4873046875\n"
     ]
    },
    {
     "name": "stderr",
     "output_type": "stream",
     "text": [
      "                                                   \r"
     ]
    },
    {
     "name": "stdout",
     "output_type": "stream",
     "text": [
      "Epoch: 70/1000 Accuracy: 0.017649194336421193 Time:110.31862926483154 Last loss: 13183.3310546875\n"
     ]
    },
    {
     "name": "stderr",
     "output_type": "stream",
     "text": [
      "                                                   \r"
     ]
    },
    {
     "name": "stdout",
     "output_type": "stream",
     "text": [
      "Epoch: 71/1000 Accuracy: 0.017635167887003516 Time:110.2903881072998 Last loss: 13292.3486328125\n"
     ]
    },
    {
     "name": "stderr",
     "output_type": "stream",
     "text": [
      "                                                   \r"
     ]
    },
    {
     "name": "stdout",
     "output_type": "stream",
     "text": [
      "Epoch: 72/1000 Accuracy: 0.017641540349637795 Time:110.66521716117859 Last loss: 13154.6865234375\n"
     ]
    },
    {
     "name": "stderr",
     "output_type": "stream",
     "text": [
      "                                                   \r"
     ]
    },
    {
     "name": "stdout",
     "output_type": "stream",
     "text": [
      "Epoch: 73/1000 Accuracy: 0.017573374499063033 Time:110.86194133758545 Last loss: 13326.1416015625\n"
     ]
    },
    {
     "name": "stderr",
     "output_type": "stream",
     "text": [
      "                                                   \r"
     ]
    },
    {
     "name": "stdout",
     "output_type": "stream",
     "text": [
      "Epoch: 74/1000 Accuracy: 0.017598645314495186 Time:110.39784002304077 Last loss: 13299.9375\n"
     ]
    },
    {
     "name": "stderr",
     "output_type": "stream",
     "text": [
      "                                                   \r"
     ]
    },
    {
     "name": "stdout",
     "output_type": "stream",
     "text": [
      "Epoch: 75/1000 Accuracy: 0.017728639057592054 Time:110.78648328781128 Last loss: 13519.458984375\n"
     ]
    },
    {
     "name": "stderr",
     "output_type": "stream",
     "text": [
      "                                                   \r"
     ]
    },
    {
     "name": "stdout",
     "output_type": "stream",
     "text": [
      "Epoch: 76/1000 Accuracy: 0.01759129869585922 Time:116.6921558380127 Last loss: 13476.0654296875\n"
     ]
    },
    {
     "name": "stderr",
     "output_type": "stream",
     "text": [
      "                                                   \r"
     ]
    },
    {
     "name": "stdout",
     "output_type": "stream",
     "text": [
      "Epoch: 77/1000 Accuracy: 0.017554301014179173 Time:111.69709348678589 Last loss: 13674.849609375\n"
     ]
    },
    {
     "name": "stderr",
     "output_type": "stream",
     "text": [
      "                                                   \r"
     ]
    },
    {
     "name": "stdout",
     "output_type": "stream",
     "text": [
      "Epoch: 78/1000 Accuracy: 0.017552144727666617 Time:110.59093856811523 Last loss: 13601.7802734375\n"
     ]
    },
    {
     "name": "stderr",
     "output_type": "stream",
     "text": [
      "                                                   \r"
     ]
    },
    {
     "name": "stdout",
     "output_type": "stream",
     "text": [
      "Epoch: 79/1000 Accuracy: 0.017589979781183908 Time:110.60115671157837 Last loss: 13709.8369140625\n"
     ]
    },
    {
     "name": "stderr",
     "output_type": "stream",
     "text": [
      "                                                   \r"
     ]
    },
    {
     "name": "stdout",
     "output_type": "stream",
     "text": [
      "Epoch: 80/1000 Accuracy: 0.017586964301859527 Time:110.15454268455505 Last loss: 13528.1689453125\n"
     ]
    },
    {
     "name": "stderr",
     "output_type": "stream",
     "text": [
      "                                                   \r"
     ]
    },
    {
     "name": "stdout",
     "output_type": "stream",
     "text": [
      "Epoch: 81/1000 Accuracy: 0.017570631691597345 Time:110.52678275108337 Last loss: 13604.115234375\n"
     ]
    },
    {
     "name": "stderr",
     "output_type": "stream",
     "text": [
      "                                                   \r"
     ]
    },
    {
     "name": "stdout",
     "output_type": "stream",
     "text": [
      "Epoch: 82/1000 Accuracy: 0.017606927380031154 Time:110.82230973243713 Last loss: 13535.2958984375\n"
     ]
    },
    {
     "name": "stderr",
     "output_type": "stream",
     "text": [
      "                                                   \r"
     ]
    },
    {
     "name": "stdout",
     "output_type": "stream",
     "text": [
      "Epoch: 83/1000 Accuracy: 0.017642880814868155 Time:110.72236490249634 Last loss: 13663.2314453125\n"
     ]
    },
    {
     "name": "stderr",
     "output_type": "stream",
     "text": [
      "                                                   \r"
     ]
    },
    {
     "name": "stdout",
     "output_type": "stream",
     "text": [
      "Epoch: 84/1000 Accuracy: 0.01760933025783567 Time:110.35991740226746 Last loss: 13743.2431640625\n"
     ]
    },
    {
     "name": "stderr",
     "output_type": "stream",
     "text": [
      "                                                   \r"
     ]
    },
    {
     "name": "stdout",
     "output_type": "stream",
     "text": [
      "Epoch: 85/1000 Accuracy: 0.017554167382654143 Time:110.4852249622345 Last loss: 13608.328125\n"
     ]
    },
    {
     "name": "stderr",
     "output_type": "stream",
     "text": [
      "                                                   \r"
     ]
    },
    {
     "name": "stdout",
     "output_type": "stream",
     "text": [
      "Epoch: 86/1000 Accuracy: 0.01753514148286564 Time:110.38833498954773 Last loss: 13596.71484375\n"
     ]
    },
    {
     "name": "stderr",
     "output_type": "stream",
     "text": [
      "                                                   \r"
     ]
    },
    {
     "name": "stdout",
     "output_type": "stream",
     "text": [
      "Epoch: 87/1000 Accuracy: 0.01755389465036438 Time:110.63677930831909 Last loss: 13640.53125\n"
     ]
    },
    {
     "name": "stderr",
     "output_type": "stream",
     "text": [
      "                                                   \r"
     ]
    },
    {
     "name": "stdout",
     "output_type": "stream",
     "text": [
      "Epoch: 88/1000 Accuracy: 0.017567546545741324 Time:110.65064859390259 Last loss: 13515.8955078125\n"
     ]
    },
    {
     "name": "stderr",
     "output_type": "stream",
     "text": [
      "                                                   \r"
     ]
    },
    {
     "name": "stdout",
     "output_type": "stream",
     "text": [
      "Epoch: 89/1000 Accuracy: 0.0175208369132914 Time:110.59932971000671 Last loss: 13478.2880859375\n"
     ]
    },
    {
     "name": "stderr",
     "output_type": "stream",
     "text": [
      "                                                   \r"
     ]
    },
    {
     "name": "stdout",
     "output_type": "stream",
     "text": [
      "Epoch: 90/1000 Accuracy: 0.01758009327922644 Time:110.3495523929596 Last loss: 13717.228515625\n"
     ]
    },
    {
     "name": "stderr",
     "output_type": "stream",
     "text": [
      "                                                   \r"
     ]
    },
    {
     "name": "stdout",
     "output_type": "stream",
     "text": [
      "Epoch: 91/1000 Accuracy: 0.017518777052415495 Time:110.3437328338623 Last loss: 13510.6396484375\n"
     ]
    },
    {
     "name": "stderr",
     "output_type": "stream",
     "text": [
      "                                                   \r"
     ]
    },
    {
     "name": "stdout",
     "output_type": "stream",
     "text": [
      "Epoch: 92/1000 Accuracy: 0.017460534751615624 Time:110.60574913024902 Last loss: 13565.65234375\n"
     ]
    },
    {
     "name": "stderr",
     "output_type": "stream",
     "text": [
      "                                                   \r"
     ]
    },
    {
     "name": "stdout",
     "output_type": "stream",
     "text": [
      "Epoch: 93/1000 Accuracy: 0.017526189407207245 Time:110.52181029319763 Last loss: 13530.1591796875\n"
     ]
    },
    {
     "name": "stderr",
     "output_type": "stream",
     "text": [
      "                                                   \r"
     ]
    },
    {
     "name": "stdout",
     "output_type": "stream",
     "text": [
      "Epoch: 94/1000 Accuracy: 0.017598744322096738 Time:110.76134467124939 Last loss: 13482.23046875\n"
     ]
    },
    {
     "name": "stderr",
     "output_type": "stream",
     "text": [
      "                                                   \r"
     ]
    },
    {
     "name": "stdout",
     "output_type": "stream",
     "text": [
      "Epoch: 95/1000 Accuracy: 0.017525343523673055 Time:117.54075288772583 Last loss: 13393.666015625\n"
     ]
    },
    {
     "name": "stderr",
     "output_type": "stream",
     "text": [
      "                                                   \r"
     ]
    },
    {
     "name": "stdout",
     "output_type": "stream",
     "text": [
      "Epoch: 96/1000 Accuracy: 0.017625666985657994 Time:110.36270761489868 Last loss: 13324.6318359375\n"
     ]
    },
    {
     "name": "stderr",
     "output_type": "stream",
     "text": [
      "                                                   \r"
     ]
    },
    {
     "name": "stdout",
     "output_type": "stream",
     "text": [
      "Epoch: 97/1000 Accuracy: 0.017824591091404378 Time:110.63576745986938 Last loss: 13295.330078125\n"
     ]
    },
    {
     "name": "stderr",
     "output_type": "stream",
     "text": [
      "                                                   \r"
     ]
    },
    {
     "name": "stdout",
     "output_type": "stream",
     "text": [
      "Epoch: 98/1000 Accuracy: 0.017506787567074102 Time:110.38453030586243 Last loss: 13318.0537109375\n"
     ]
    },
    {
     "name": "stderr",
     "output_type": "stream",
     "text": [
      "                                                   \r"
     ]
    },
    {
     "name": "stdout",
     "output_type": "stream",
     "text": [
      "Epoch: 99/1000 Accuracy: 0.017487469742582685 Time:110.5694272518158 Last loss: 13227.1201171875\n"
     ]
    },
    {
     "name": "stderr",
     "output_type": "stream",
     "text": [
      "                                                   \r"
     ]
    },
    {
     "name": "stdout",
     "output_type": "stream",
     "text": [
      "Epoch: 100/1000 Accuracy: 0.017552417873282083 Time:110.54677319526672 Last loss: 13154.55859375\n"
     ]
    },
    {
     "name": "stderr",
     "output_type": "stream",
     "text": [
      "                                                   \r"
     ]
    },
    {
     "name": "stdout",
     "output_type": "stream",
     "text": [
      "Epoch: 101/1000 Accuracy: 0.017565906998109095 Time:110.70869255065918 Last loss: 13300.416015625\n"
     ]
    },
    {
     "name": "stderr",
     "output_type": "stream",
     "text": [
      "                                                   \r"
     ]
    },
    {
     "name": "stdout",
     "output_type": "stream",
     "text": [
      "Epoch: 102/1000 Accuracy: 0.01749683672773104 Time:110.63523483276367 Last loss: 13346.400390625\n"
     ]
    },
    {
     "name": "stderr",
     "output_type": "stream",
     "text": [
      "                                                   \r"
     ]
    },
    {
     "name": "stdout",
     "output_type": "stream",
     "text": [
      "Epoch: 103/1000 Accuracy: 0.017506682926156793 Time:110.74407410621643 Last loss: 13324.7880859375\n"
     ]
    },
    {
     "name": "stderr",
     "output_type": "stream",
     "text": [
      "                                                   \r"
     ]
    },
    {
     "name": "stdout",
     "output_type": "stream",
     "text": [
      "Epoch: 104/1000 Accuracy: 0.017552469134448724 Time:110.88522362709045 Last loss: 13391.5341796875\n"
     ]
    },
    {
     "name": "stderr",
     "output_type": "stream",
     "text": [
      "                                                   \r"
     ]
    },
    {
     "name": "stdout",
     "output_type": "stream",
     "text": [
      "Epoch: 105/1000 Accuracy: 0.017496086548461385 Time:110.92459154129028 Last loss: 13332.5849609375\n"
     ]
    },
    {
     "name": "stderr",
     "output_type": "stream",
     "text": [
      "                                                   \r"
     ]
    },
    {
     "name": "stdout",
     "output_type": "stream",
     "text": [
      "Epoch: 106/1000 Accuracy: 0.01763927775545066 Time:110.55342102050781 Last loss: 13239.7763671875\n"
     ]
    },
    {
     "name": "stderr",
     "output_type": "stream",
     "text": [
      "                                                   \r"
     ]
    },
    {
     "name": "stdout",
     "output_type": "stream",
     "text": [
      "Epoch: 107/1000 Accuracy: 0.017530570509329674 Time:110.52924704551697 Last loss: 13208.4697265625\n"
     ]
    },
    {
     "name": "stderr",
     "output_type": "stream",
     "text": [
      "                                                   \r"
     ]
    },
    {
     "name": "stdout",
     "output_type": "stream",
     "text": [
      "Epoch: 108/1000 Accuracy: 0.01751155064820117 Time:110.50657486915588 Last loss: 13323.4951171875\n"
     ]
    },
    {
     "name": "stderr",
     "output_type": "stream",
     "text": [
      "                                                   \r"
     ]
    },
    {
     "name": "stdout",
     "output_type": "stream",
     "text": [
      "Epoch: 109/1000 Accuracy: 0.01748517299686059 Time:110.59074544906616 Last loss: 13395.54296875\n"
     ]
    },
    {
     "name": "stderr",
     "output_type": "stream",
     "text": [
      "                                                   \r"
     ]
    },
    {
     "name": "stdout",
     "output_type": "stream",
     "text": [
      "Epoch: 110/1000 Accuracy: 0.017510474939423773 Time:110.72858738899231 Last loss: 13276.3056640625\n"
     ]
    },
    {
     "name": "stderr",
     "output_type": "stream",
     "text": [
      "                                                   \r"
     ]
    },
    {
     "name": "stdout",
     "output_type": "stream",
     "text": [
      "Epoch: 111/1000 Accuracy: 0.017585526887066553 Time:110.48080921173096 Last loss: 13522.9150390625\n"
     ]
    },
    {
     "name": "stderr",
     "output_type": "stream",
     "text": [
      "                                                   \r"
     ]
    },
    {
     "name": "stdout",
     "output_type": "stream",
     "text": [
      "Epoch: 112/1000 Accuracy: 0.01751742130409199 Time:110.90669298171997 Last loss: 13691.439453125\n"
     ]
    },
    {
     "name": "stderr",
     "output_type": "stream",
     "text": [
      "                                                   \r"
     ]
    },
    {
     "name": "stdout",
     "output_type": "stream",
     "text": [
      "Epoch: 113/1000 Accuracy: 0.017512728841836987 Time:110.53223490715027 Last loss: 13724.0732421875\n"
     ]
    },
    {
     "name": "stderr",
     "output_type": "stream",
     "text": [
      "                                                   \r"
     ]
    },
    {
     "name": "stdout",
     "output_type": "stream",
     "text": [
      "Epoch: 114/1000 Accuracy: 0.017587702405899568 Time:110.59080266952515 Last loss: 13594.748046875\n"
     ]
    },
    {
     "name": "stderr",
     "output_type": "stream",
     "text": [
      "                                                   \r"
     ]
    },
    {
     "name": "stdout",
     "output_type": "stream",
     "text": [
      "Epoch: 115/1000 Accuracy: 0.017486777757937555 Time:110.17908811569214 Last loss: 13701.3232421875\n"
     ]
    },
    {
     "name": "stderr",
     "output_type": "stream",
     "text": [
      "                                                   \r"
     ]
    },
    {
     "name": "stdout",
     "output_type": "stream",
     "text": [
      "Epoch: 116/1000 Accuracy: 0.017455199640259447 Time:110.50863718986511 Last loss: 13570.5087890625\n"
     ]
    },
    {
     "name": "stderr",
     "output_type": "stream",
     "text": [
      "                                                   \r"
     ]
    },
    {
     "name": "stdout",
     "output_type": "stream",
     "text": [
      "Epoch: 117/1000 Accuracy: 0.0174864575053543 Time:110.65419340133667 Last loss: 13712.5517578125\n"
     ]
    },
    {
     "name": "stderr",
     "output_type": "stream",
     "text": [
      "                                                   \r"
     ]
    },
    {
     "name": "stdout",
     "output_type": "stream",
     "text": [
      "Epoch: 118/1000 Accuracy: 0.01753196260910706 Time:119.71001195907593 Last loss: 13292.6181640625\n"
     ]
    },
    {
     "name": "stderr",
     "output_type": "stream",
     "text": [
      "                                                   \r"
     ]
    },
    {
     "name": "stdout",
     "output_type": "stream",
     "text": [
      "Epoch: 119/1000 Accuracy: 0.017531145384227793 Time:110.72286701202393 Last loss: 13497.4111328125\n"
     ]
    },
    {
     "name": "stderr",
     "output_type": "stream",
     "text": [
      "                                                   \r"
     ]
    },
    {
     "name": "stdout",
     "output_type": "stream",
     "text": [
      "Epoch: 120/1000 Accuracy: 0.017497661579961285 Time:110.77097582817078 Last loss: 13795.11328125\n"
     ]
    },
    {
     "name": "stderr",
     "output_type": "stream",
     "text": [
      "                                                   \r"
     ]
    },
    {
     "name": "stdout",
     "output_type": "stream",
     "text": [
      "Epoch: 121/1000 Accuracy: 0.017451261287117867 Time:110.90726494789124 Last loss: 13623.2666015625\n"
     ]
    },
    {
     "name": "stderr",
     "output_type": "stream",
     "text": [
      "                                                   \r"
     ]
    },
    {
     "name": "stdout",
     "output_type": "stream",
     "text": [
      "Epoch: 122/1000 Accuracy: 0.01749634433550188 Time:110.433358669281 Last loss: 13571.3984375\n"
     ]
    },
    {
     "name": "stderr",
     "output_type": "stream",
     "text": [
      "                                                   \r"
     ]
    },
    {
     "name": "stdout",
     "output_type": "stream",
     "text": [
      "Epoch: 123/1000 Accuracy: 0.01746016093760843 Time:110.63320326805115 Last loss: 13377.716796875\n"
     ]
    },
    {
     "name": "stderr",
     "output_type": "stream",
     "text": [
      "                                                   \r"
     ]
    },
    {
     "name": "stdout",
     "output_type": "stream",
     "text": [
      "Epoch: 124/1000 Accuracy: 0.017481456089263447 Time:110.76852822303772 Last loss: 13624.927734375\n"
     ]
    },
    {
     "name": "stderr",
     "output_type": "stream",
     "text": [
      "                                                   \r"
     ]
    },
    {
     "name": "stdout",
     "output_type": "stream",
     "text": [
      "Epoch: 125/1000 Accuracy: 0.017616998885470584 Time:110.7037603855133 Last loss: 13538.85546875\n"
     ]
    },
    {
     "name": "stderr",
     "output_type": "stream",
     "text": [
      "                                                   \r"
     ]
    },
    {
     "name": "stdout",
     "output_type": "stream",
     "text": [
      "Epoch: 126/1000 Accuracy: 0.017450456409864104 Time:110.79972553253174 Last loss: 13677.46875\n"
     ]
    },
    {
     "name": "stderr",
     "output_type": "stream",
     "text": [
      "                                                   \r"
     ]
    },
    {
     "name": "stdout",
     "output_type": "stream",
     "text": [
      "Epoch: 127/1000 Accuracy: 0.01750840968589219 Time:110.52031326293945 Last loss: 13491.318359375\n"
     ]
    },
    {
     "name": "stderr",
     "output_type": "stream",
     "text": [
      "                                                   \r"
     ]
    },
    {
     "name": "stdout",
     "output_type": "stream",
     "text": [
      "Epoch: 128/1000 Accuracy: 0.017487566329824938 Time:110.41539645195007 Last loss: 13357.8046875\n"
     ]
    },
    {
     "name": "stderr",
     "output_type": "stream",
     "text": [
      "                                                   \r"
     ]
    },
    {
     "name": "stdout",
     "output_type": "stream",
     "text": [
      "Epoch: 129/1000 Accuracy: 0.017475351490835327 Time:110.56816148757935 Last loss: 13478.2607421875\n"
     ]
    },
    {
     "name": "stderr",
     "output_type": "stream",
     "text": [
      "                                                   \r"
     ]
    },
    {
     "name": "stdout",
     "output_type": "stream",
     "text": [
      "Epoch: 130/1000 Accuracy: 0.01751879941799182 Time:110.50559163093567 Last loss: 13547.3037109375\n"
     ]
    },
    {
     "name": "stderr",
     "output_type": "stream",
     "text": [
      "                                                   \r"
     ]
    },
    {
     "name": "stdout",
     "output_type": "stream",
     "text": [
      "Epoch: 131/1000 Accuracy: 0.017473695688918076 Time:110.76928234100342 Last loss: 13395.640625\n"
     ]
    },
    {
     "name": "stderr",
     "output_type": "stream",
     "text": [
      "                                                   \r"
     ]
    },
    {
     "name": "stdout",
     "output_type": "stream",
     "text": [
      "Epoch: 132/1000 Accuracy: 0.017427689805978055 Time:110.65989923477173 Last loss: 13288.7978515625\n"
     ]
    },
    {
     "name": "stderr",
     "output_type": "stream",
     "text": [
      "                                                   \r"
     ]
    },
    {
     "name": "stdout",
     "output_type": "stream",
     "text": [
      "Epoch: 133/1000 Accuracy: 0.0175060879665561 Time:110.57651591300964 Last loss: 13333.7705078125\n"
     ]
    },
    {
     "name": "stderr",
     "output_type": "stream",
     "text": [
      "                                                   \r"
     ]
    },
    {
     "name": "stdout",
     "output_type": "stream",
     "text": [
      "Epoch: 134/1000 Accuracy: 0.017475476187455898 Time:110.5426676273346 Last loss: 13216.5\n"
     ]
    },
    {
     "name": "stderr",
     "output_type": "stream",
     "text": [
      "                                                   \r"
     ]
    },
    {
     "name": "stdout",
     "output_type": "stream",
     "text": [
      "Epoch: 135/1000 Accuracy: 0.01749041965894901 Time:110.42028212547302 Last loss: 13373.865234375\n"
     ]
    },
    {
     "name": "stderr",
     "output_type": "stream",
     "text": [
      "                                                   \r"
     ]
    },
    {
     "name": "stdout",
     "output_type": "stream",
     "text": [
      "Epoch: 136/1000 Accuracy: 0.017473579701782673 Time:110.41162276268005 Last loss: 13289.7255859375\n"
     ]
    },
    {
     "name": "stderr",
     "output_type": "stream",
     "text": [
      "                                                   \r"
     ]
    },
    {
     "name": "stdout",
     "output_type": "stream",
     "text": [
      "Epoch: 137/1000 Accuracy: 0.017497407710944386 Time:110.4999406337738 Last loss: 13634.0185546875\n"
     ]
    },
    {
     "name": "stderr",
     "output_type": "stream",
     "text": [
      "                                                   \r"
     ]
    },
    {
     "name": "stdout",
     "output_type": "stream",
     "text": [
      "Epoch: 138/1000 Accuracy: 0.017509058548029303 Time:110.40502834320068 Last loss: 13547.7998046875\n"
     ]
    },
    {
     "name": "stderr",
     "output_type": "stream",
     "text": [
      "                                                   \r"
     ]
    },
    {
     "name": "stdout",
     "output_type": "stream",
     "text": [
      "Epoch: 139/1000 Accuracy: 0.01744982931959658 Time:110.39845418930054 Last loss: 13502.416015625\n"
     ]
    },
    {
     "name": "stderr",
     "output_type": "stream",
     "text": [
      "                                                   \r"
     ]
    },
    {
     "name": "stdout",
     "output_type": "stream",
     "text": [
      "Epoch: 140/1000 Accuracy: 0.017514774830476146 Time:110.62881398200989 Last loss: 13524.166015625\n"
     ]
    },
    {
     "name": "stderr",
     "output_type": "stream",
     "text": [
      "                                                   \r"
     ]
    },
    {
     "name": "stdout",
     "output_type": "stream",
     "text": [
      "Epoch: 141/1000 Accuracy: 0.017445151164948058 Time:110.50132513046265 Last loss: 13582.2490234375\n"
     ]
    },
    {
     "name": "stderr",
     "output_type": "stream",
     "text": [
      "                                                   \r"
     ]
    },
    {
     "name": "stdout",
     "output_type": "stream",
     "text": [
      "Epoch: 142/1000 Accuracy: 0.01744010485051193 Time:111.79177236557007 Last loss: 13720.9375\n"
     ]
    },
    {
     "name": "stderr",
     "output_type": "stream",
     "text": [
      "                                                   \r"
     ]
    },
    {
     "name": "stdout",
     "output_type": "stream",
     "text": [
      "Epoch: 143/1000 Accuracy: 0.017458181471375057 Time:112.89794921875 Last loss: 13522.7705078125\n"
     ]
    },
    {
     "name": "stderr",
     "output_type": "stream",
     "text": [
      "                                                   \r"
     ]
    },
    {
     "name": "stdout",
     "output_type": "stream",
     "text": [
      "Epoch: 144/1000 Accuracy: 0.017507473236406567 Time:112.52720665931702 Last loss: 13747.9296875\n"
     ]
    },
    {
     "name": "stderr",
     "output_type": "stream",
     "text": [
      "                                                   \r"
     ]
    },
    {
     "name": "stdout",
     "output_type": "stream",
     "text": [
      "Epoch: 145/1000 Accuracy: 0.01746154948658548 Time:116.57700729370117 Last loss: 13567.03125\n"
     ]
    },
    {
     "name": "stderr",
     "output_type": "stream",
     "text": [
      "                                                   \r"
     ]
    },
    {
     "name": "stdout",
     "output_type": "stream",
     "text": [
      "Epoch: 146/1000 Accuracy: 0.017497385000644926 Time:118.85166597366333 Last loss: 13643.857421875\n"
     ]
    },
    {
     "name": "stderr",
     "output_type": "stream",
     "text": [
      "                                                   \r"
     ]
    },
    {
     "name": "stdout",
     "output_type": "stream",
     "text": [
      "Epoch: 147/1000 Accuracy: 0.017489979734075404 Time:119.53897833824158 Last loss: 13649.9775390625\n"
     ]
    },
    {
     "name": "stderr",
     "output_type": "stream",
     "text": [
      "                                                   \r"
     ]
    },
    {
     "name": "stdout",
     "output_type": "stream",
     "text": [
      "Epoch: 148/1000 Accuracy: 0.017492969049331758 Time:131.19052600860596 Last loss: 13344.5576171875\n"
     ]
    },
    {
     "name": "stderr",
     "output_type": "stream",
     "text": [
      "                                                   \r"
     ]
    },
    {
     "name": "stdout",
     "output_type": "stream",
     "text": [
      "Epoch: 149/1000 Accuracy: 0.01742155434164075 Time:119.26553130149841 Last loss: 13493.7626953125\n"
     ]
    },
    {
     "name": "stderr",
     "output_type": "stream",
     "text": [
      "                                                   \r"
     ]
    },
    {
     "name": "stdout",
     "output_type": "stream",
     "text": [
      "Epoch: 150/1000 Accuracy: 0.01742307615472953 Time:121.4321665763855 Last loss: 13393.9951171875\n"
     ]
    },
    {
     "name": "stderr",
     "output_type": "stream",
     "text": [
      "                                                   \r"
     ]
    },
    {
     "name": "stdout",
     "output_type": "stream",
     "text": [
      "Epoch: 151/1000 Accuracy: 0.017485266635104725 Time:120.7212564945221 Last loss: 13402.431640625\n"
     ]
    },
    {
     "name": "stderr",
     "output_type": "stream",
     "text": [
      "                                                   \r"
     ]
    },
    {
     "name": "stdout",
     "output_type": "stream",
     "text": [
      "Epoch: 152/1000 Accuracy: 0.017447750122185128 Time:157.61677956581116 Last loss: 13459.083984375\n"
     ]
    },
    {
     "name": "stderr",
     "output_type": "stream",
     "text": [
      " 10%|▉         | 303/3063 [01:36<02:05, 21.96it/s] "
     ]
    },
    {
     "ename": "",
     "evalue": "",
     "output_type": "error",
     "traceback": [
      "\u001b[1;31mCanceled future for execute_request message before replies were done"
     ]
    },
    {
     "ename": "",
     "evalue": "",
     "output_type": "error",
     "traceback": [
      "\u001b[1;31mThe Kernel crashed while executing code in the the current cell or a previous cell. Please review the code in the cell(s) to identify a possible cause of the failure. Click <a href='https://aka.ms/vscodeJupyterKernelCrash'>here</a> for more info. View Jupyter <a href='command:jupyter.viewOutput'>log</a> for further details."
     ]
    }
   ],
   "source": [
    "batch_size = 16\n",
    "N_epochs = 1000\n",
    "\n",
    "test_accuracy_history = []\n",
    "test_loss_history = []\n",
    "\n",
    "X_test = X_test.to(device)\n",
    "y_test = y_test.to(device)\n",
    "tb = SummaryWriter()\n",
    "\n",
    "norm =  torch.tensor([255, 255, 255, 255, 180])#.to(torch.device('cuda:0' if torch.cuda.is_available() else 'cpu'))\n",
    "\n",
    "for epoch in range(N_epochs):\n",
    "    order = np.random.permutation(N_test)\n",
    "    current_losses = []\n",
    "    time_start = time.time()\n",
    "    \n",
    "    for start_index in tqdm(range(0, N_test, batch_size),leave=False):\n",
    "        torch.cuda.empty_cache()\n",
    "        X_train = torch.zeros((batch_size,1,256,256))\n",
    "        y_train = torch.zeros((batch_size,5))\n",
    "        for i in range(start_index, start_index + batch_size):\n",
    "            name, label = f[i].split()\n",
    "            label = torch.tensor(list(map(int, label.split(\"_\"))))/norm\n",
    "            y_train[i%batch_size] += label\n",
    "            img = Image.open(f\"Datasets/{DATASET_NAME}/\" + name)\n",
    "            X_train[i%batch_size] += torch.tensor(np.asarray(img)).reshape(3, 256, 256)[0, :]/255\n",
    "        optimizer.zero_grad()\n",
    "\n",
    "        X_batch = X_train.to(device)\n",
    "        y_batch = y_train.to(device)\n",
    "\n",
    "        preds = huinet.forward(X_batch)\n",
    "\n",
    "        loss_value = loss(preds, y_batch)\n",
    "        current_losses.append(loss_value.item())\n",
    "        loss_value.backward()\n",
    "        tb.add_scalar(\"Batch\",loss_value.item(), epoch * N_test//batch_size + start_index//batch_size)\n",
    "\n",
    "        optimizer.step()\n",
    "        del X_train, y_train, label\n",
    "        torch.cuda.empty_cache()\n",
    "\n",
    "    test_preds = huinet.forward(X_test)\n",
    "    test_loss_history.append(loss(test_preds, y_test).item())\n",
    "    # # TODO: новая accuracy когда-нибудь\n",
    "    # # accuracy = (test_preds.argmax(dim=0) == y_test).float().mean().data.cpu()\n",
    "    accuracy = np.array(current_losses).mean()\n",
    "    test_accuracy_history.append(accuracy)\n",
    "    print(f\"Epoch: {epoch+start_epoch}/{start_epoch+N_epochs-1} Accuracy: {accuracy} Time:{time.time()-time_start} Last loss: {test_loss_history[-1]}\")\n",
    "    tb.add_scalar(\"Accuracy\",accuracy, epoch)\n",
    "    del test_preds, accuracy\n",
    "    torch.cuda.empty_cache()\n",
    "    torch.save(huinet.state_dict(), f\"States/{FOLDER_FOR_NETWORKS_EPOCH}/state{start_epoch + epoch}.txt\")"
   ]
  },
  {
   "cell_type": "markdown",
   "metadata": {},
   "source": [
    "\n",
    "\n",
    "\n",
    "\n",
    "\n",
    "\n",
    "\n",
    "\n",
    "\n",
    "Function that draws picture with desired epoch of neural network"
   ]
  },
  {
   "cell_type": "code",
   "execution_count": 13,
   "metadata": {
    "datalore": {
     "hide_input_from_viewers": false,
     "hide_output_from_viewers": false,
     "node_id": "VGtVqeBYKuT4rcv8vXlBmB",
     "type": "CODE"
    },
    "pycharm": {
     "name": "#%%\n"
    }
   },
   "outputs": [],
   "source": [
    "def checkDrawingForEpoche(epoch, drawing, test=True):\n",
    "    huinet = HuiNet()\n",
    "    huinet.float()\n",
    "    huinet.load_state_dict(torch.load(f\"States/{FOLDER_FOR_NETWORKS_EPOCH}/state{epoch}.txt\"))\n",
    "    huinet.eval()\n",
    "    huinet = huinet.to(device)\n",
    "\n",
    "    k = 171\n",
    "    a = huinet.forward(X_test[drawing].reshape(1, 1,256,256)).cpu().detach().numpy().astype(dtype=int).reshape(-1).tolist()  #prediction\n",
    "    b = y_test[drawing].cpu().detach().numpy().astype(dtype=int).tolist()  #label\n",
    "    print(a,b)\n",
    "\n",
    "    #original filled with black color\n",
    "    rect = ((b[0], b[1]), (b[2], b[3]), b[4])\n",
    "    box = cv2.boxPoints(rect)\n",
    "    box = np.int0(box)\n",
    "    whiteblankimage = 255 * np.ones(shape=[256, 256, 3], dtype=np.uint8)\n",
    "    cv2.drawContours(whiteblankimage,[box],0,(0,0,0),thickness=cv2.FILLED)\n",
    "\n",
    "    #red contour of prediction\n",
    "    rect = ((a[0], a[1]), (a[2], a[3]), a[4])\n",
    "    box = cv2.boxPoints(rect)\n",
    "    box = np.int0(box)\n",
    "    cv2.drawContours(whiteblankimage,[box],0,(255,0,0))\n",
    "\n",
    "    #saving and drawing\n",
    "    # cv2.imwrite(f'ImagesByEpoch/IM2.0/{drawing}_{epoch}.jpeg' , whiteblankimage)\n",
    "    plt.imshow(whiteblankimage)\n",
    "    \n",
    "def checkDrawingsForEpoche(epoch, drawing, base_img = None, test=True, color=(255,0,0)):\n",
    "    huinet = HuiNet()\n",
    "    huinet.float()\n",
    "    huinet.load_state_dict(torch.load(f\"States/{FOLDER_FOR_NETWORKS_EPOCH}/state{epoch}.txt\"))\n",
    "    huinet.eval()\n",
    "    huinet = huinet.to(device)\n",
    "\n",
    "    k = 171\n",
    "    a = huinet.forward(X_test[drawing].reshape(1, 1,256,256)).cpu().detach().numpy().astype(dtype=int).reshape(-1).tolist()  #prediction\n",
    "    b = y_test[drawing].cpu().detach().numpy().astype(dtype=int).tolist()  #label\n",
    "\n",
    "    #original filled with black color\n",
    "    if base_img is None:\n",
    "        whiteblankimage = 255 * np.ones(shape=[256, 256, 3], dtype=np.uint8)\n",
    "    else:\n",
    "        whiteblankimage = base_img\n",
    "\n",
    "    rect = ((b[0], b[1]), (b[2], b[3]), b[4])\n",
    "    box = cv2.boxPoints(rect)\n",
    "    box = np.int0(box)\n",
    "    cv2.drawContours(whiteblankimage,[box],0,(0,0,0),thickness=cv2.FILLED)\n",
    "\n",
    "    #red contour of prediction\n",
    "    rect = ((a[0], a[1]), (a[2], a[3]), a[4])\n",
    "    box = cv2.boxPoints(rect)\n",
    "    box = np.int0(box)\n",
    "    cv2.drawContours(whiteblankimage,[box],0,color)\n",
    "\n",
    "    #saving and drawing\n",
    "    # cv2.imwrite(f'ImagesByEpoch/IM2.0/{drawing}_{epoch}.jpeg' , whiteblankimage)\n",
    "    return whiteblankimage\n",
    "\n",
    "X_test = X_test.to(device)\n",
    "y_test = y_test.to(device)"
   ]
  },
  {
   "cell_type": "markdown",
   "metadata": {},
   "source": [
    "\"... And don't you cry tonight <br>\n",
    "That's a heaven above you, baby...\""
   ]
  },
  {
   "cell_type": "code",
   "execution_count": null,
   "metadata": {},
   "outputs": [],
   "source": [
    "# for i in range(300):\n",
    "#     checkDrawingForEpoche(epoch=i, drawing=250)\n",
    "checkDrawingForEpoche(epoch=151, drawing=100)"
   ]
  },
  {
   "cell_type": "code",
   "execution_count": 15,
   "metadata": {},
   "outputs": [
    {
     "data": {
      "image/png": "[encoded data removed]",
      "text/plain": [
       "<Figure size 640x480 with 16 Axes>"
      ]
     },
     "metadata": {},
     "output_type": "display_data"
    }
   ],
   "source": [
    "e, d = 10,1\n",
    "fig, axs = plt.subplots(4,4)\n",
    "\n",
    "for i in range(4):\n",
    "    for j in range(4):\n",
    "        # aa = 0\n",
    "        result = checkDrawingsForEpoche(epoch = 1, drawing=d + i*4 + j)\n",
    "        result = checkDrawingsForEpoche(epoch = e, drawing=d + i*4 + j, base_img=result, color=(0,0,255))\n",
    "        axs[i][j].imshow(result)\n",
    "str_ = str(f\"red - random blue - {e}\")\n",
    "fig.legend(str_, loc='upper center')\n",
    "plt.show()\n",
    "        # total = checkDrawingsForEpoche(epoch = 1, drawing=d + i*4 + j) + checkDrawingsForEpoche(epoch = e, drawing=d + i*4 + j, color=(0,0,255))\n",
    "        # axs[i][j].imshow(checkDrawingsForEpoche(epoch = 1, drawing=d + i*4 + j))\n",
    "        # axs[i][j].plot(checkDrawingsForEpoche(epoch = 1, drawing=d + i*4 + j))\n",
    "        # axs[i][j].imshow(checkDrawingsForEpoche(epoch = 1, drawing=d + i*4 + j))\n",
    "        # axs[i][j].imshow(checkDrawingsForEpoche(epoch = e, drawing=d + i*4 + j, color=(0,0,255)))\n",
    "\n",
    "# fig, axs = plt.subplots(4,4)\n",
    "# for i in range(4):\n",
    "#     for j in range(4):\n",
    "#         axs[i][j].imshow(checkDrawingsForEpoche(epoch = 1, drawing=d + i*4 + j))\n"
   ]
  },
  {
   "cell_type": "code",
   "execution_count": null,
   "metadata": {},
   "outputs": [],
   "source": [
    "# b = y_test[3].cpu().detach().numpy().astype(dtype=int).tolist()\n",
    "# rect = ((b[0], b[1]), (b[2], b[3]), b[4])\n",
    "# box = cv2.boxPoints(rect)\n",
    "# box = np.int0(box)\n",
    "# whiteblankimage = 255 * np.ones(shape=[256, 256, 3], dtype=np.uint8)\n",
    "# cv2.drawContours(whiteblankimage,[box],0,(0,0,0),thickness=cv2.FILLED)\n",
    "huinet = HuiNet()\n",
    "huinet.float()\n",
    "huinet.load_state_dict(torch.load(f\"states_3.1.1/state{54}.txt\"))\n",
    "huinet.eval()\n",
    "huinet = huinet.to(device)\n",
    "whitenoise = torch.tensor(np.random.randint(0,255,(256,256)),dtype=torch.float32)\n",
    "whitenoise = whitenoise.to(device)\n",
    "\n",
    "huinet.layers_list[0].reset_parameters()\n",
    "\n",
    "im =  huinet.layers_list[0](whitenoise.reshape(1, 1,256,256)).cpu().detach().numpy().astype(dtype=int).reshape(16,129,129)\n",
    "# im = huinet.layers_list[1](im)\n",
    "# im = huinet.layers_list[2](im)\n",
    "# plt.imshow(im[7])\n",
    "# print(im[5])\n",
    "\n",
    "fig, axs = plt.subplots(4,4)\n",
    "for i in range(4):\n",
    "    for j in range(4):\n",
    "        axs[i][j].imshow(im[i*4+j],cmap=\"gray\",vmin=0,vmax=255)\n",
    "        axs[i][j].set_axis_off()"
   ]
  },
  {
   "cell_type": "code",
   "execution_count": null,
   "metadata": {},
   "outputs": [],
   "source": [
    "plt.imshow(whitenoise.cpu().numpy(),cmap=\"gray\", vmin=0,vmax=255)"
   ]
  }
 ],
 "metadata": {
  "datalore": {
   "base_environment": "default",
   "computation_mode": "JUPYTER",
   "package_manager": "pip",
   "packages": [
    {
     "name": "torchsummary",
     "source": "PIP"
    }
   ],
   "version": 1
  },
  "kernelspec": {
   "display_name": "Python 3 (ipykernel)",
   "language": "python",
   "name": "python3"
  },
  "language_info": {
   "codemirror_mode": {
    "name": "ipython",
    "version": 3
   },
   "file_extension": ".py",
   "mimetype": "text/x-python",
   "name": "python",
   "nbconvert_exporter": "python",
   "pygments_lexer": "ipython3",
   "version": "3.8.10"
  },
  "vscode": {
   "interpreter": {
    "hash": "916dbcbb3f70747c44a77c7bcd40155683ae19c65e1c03b4aa3499c5328201f1"
   }
  }
 },
 "nbformat": 4,
 "nbformat_minor": 4
}
