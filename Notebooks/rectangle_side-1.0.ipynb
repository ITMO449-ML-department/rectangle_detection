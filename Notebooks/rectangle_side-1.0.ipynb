{
 "cells": [
  {
   "cell_type": "code",
   "execution_count": 3,
   "metadata": {},
   "outputs": [],
   "source": [
    "from PIL import Image\n",
    "import numpy as np\n",
    "import math\n",
    "from matplotlib import pyplot as plt\n",
    "import time\n",
    "import json\n",
    "import torchvision.transforms as transforms\n",
    "from torch.utils.tensorboard import SummaryWriter\n",
    "from itertools import product\n",
    "from tqdm import tqdm\n",
    "from pathlib import Path\n",
    "import cv2"
   ]
  },
  {
   "cell_type": "code",
   "execution_count": 4,
   "metadata": {},
   "outputs": [],
   "source": [
    "import torch\n",
    "from torchsummary import summary"
   ]
  },
  {
   "cell_type": "code",
   "execution_count": 5,
   "metadata": {},
   "outputs": [],
   "source": [
    "DATASET_NAME = \"Squares_new_2\""
   ]
  },
  {
   "cell_type": "code",
   "execution_count": 7,
   "metadata": {},
   "outputs": [
    {
     "data": {
      "text/plain": [
       "HuiNet(\n",
       "  (layers_list): ModuleList(\n",
       "    (0): Conv2d(1, 16, kernel_size=(16, 16), stride=(2, 2), padding=(8, 8))\n",
       "    (1): ReLU()\n",
       "    (2): MaxPool2d(kernel_size=4, stride=4, padding=0, dilation=1, ceil_mode=False)\n",
       "    (3): Linear(in_features=16384, out_features=100, bias=True)\n",
       "    (4): ReLU()\n",
       "    (5): Linear(in_features=100, out_features=100, bias=True)\n",
       "    (6): ReLU()\n",
       "    (7): Linear(in_features=100, out_features=100, bias=True)\n",
       "    (8): ReLU()\n",
       "    (9): Linear(in_features=100, out_features=100, bias=True)\n",
       "    (10): ReLU()\n",
       "    (11): Linear(in_features=100, out_features=100, bias=True)\n",
       "    (12): ReLU()\n",
       "    (13): Linear(in_features=100, out_features=100, bias=True)\n",
       "    (14): ReLU()\n",
       "    (15): Linear(in_features=100, out_features=100, bias=True)\n",
       "    (16): ReLU()\n",
       "    (17): Linear(in_features=100, out_features=100, bias=True)\n",
       "    (18): ReLU()\n",
       "    (19): Linear(in_features=100, out_features=100, bias=True)\n",
       "    (20): ReLU()\n",
       "    (21): Linear(in_features=100, out_features=2, bias=True)\n",
       "  )\n",
       ")"
      ]
     },
     "execution_count": 7,
     "metadata": {},
     "output_type": "execute_result"
    }
   ],
   "source": [
    "class HuiNet(torch.nn.Module):\n",
    "    def __init__(self):\n",
    "        super(HuiNet, self).__init__()\n",
    "        self.layers_indexes = dict()\n",
    "        self.conv_lays = [1, 16]\n",
    "        counter = 0\n",
    "        self.layers_list = []\n",
    "\n",
    "        num_convs = 1\n",
    "        num_fc = 10\n",
    "\n",
    "        for i in range(num_convs):\n",
    "            self.layers_list.append(torch.nn.Conv2d(in_channels=self.conv_lays[i], out_channels=self.conv_lays[\n",
    "                i + 1], kernel_size=16, padding=8, stride=2))\n",
    "            self.layers_indexes[\"cv\" + str(i + 1)] = counter\n",
    "            counter += 1\n",
    "            self.layers_list.append(torch.nn.ReLU())\n",
    "            self.layers_indexes[\"act\" + str(i + 1)] = counter\n",
    "            counter += 1\n",
    "            self.layers_list.append(torch.nn.MaxPool2d(kernel_size=4, stride=4))\n",
    "            self.layers_indexes[\"pool\" + str(i + 1)] = counter\n",
    "            counter += 1\n",
    "\n",
    "        self.layers_list.append(torch.nn.Linear(16*32*32, 100))\n",
    "        self.layers_indexes['fc1'] = counter\n",
    "        counter += 1\n",
    "        self.layers_list.append(torch.nn.ReLU())\n",
    "        self.layers_indexes[f'act{num_convs + 1}'] = counter\n",
    "        counter += 1\n",
    "    \n",
    "        for i in range(1, num_fc):\n",
    "            if i == num_fc-1:\n",
    "                self.layers_list.append(torch.nn.Linear(100, 2))\n",
    "                self.layers_indexes[f\"fc{i+1}\"] = counter\n",
    "                counter += 1\n",
    "            else:\n",
    "                self.layers_list.append(torch.nn.Linear(100, 100))\n",
    "                self.layers_indexes[f\"fc{i+1}\"] = counter\n",
    "                counter += 1\n",
    "                self.layers_list.append(torch.nn.ReLU())\n",
    "                self.layers_indexes[f\"act{i+num_convs + 2}\"] = counter\n",
    "                counter += 1\n",
    "        self.layers_list = torch.nn.ModuleList(self.layers_list)\n",
    "\n",
    "    def forward(self, x):\n",
    "        for key in self.layers_indexes:\n",
    "            if key == \"fc1\":\n",
    "                x = x.view(x.size(0), x.size(1) * x.size(2) * x.size(3))\n",
    "            x = self.layers_list[self.layers_indexes[key]](x)\n",
    "        return x\n",
    "\n",
    "\n",
    "FOLDER_FOR_NETWORKS_EPOCH = \"states_30.08.22_try1_side\"\n",
    "Path(f\"States/{FOLDER_FOR_NETWORKS_EPOCH}\").mkdir(parents=True, exist_ok=True)\n",
    "\n",
    "huinet = HuiNet()\n",
    "\n",
    "start_epoch = 1\n",
    "\n",
    "if start_epoch != 1:\n",
    "    huinet.load_state_dict(torch.load(f\"States/{FOLDER_FOR_NETWORKS_EPOCH}/state{start_epoch-1}.txt\"))\n",
    "    huinet.eval()\n",
    "else:\n",
    "    dictForJson = dict()\n",
    "    for key in huinet.layers_indexes.keys():\n",
    "        dictForJson[key] = str(huinet.layers_list[huinet.layers_indexes[key]])\n",
    "    with open(f\"States/{FOLDER_FOR_NETWORKS_EPOCH}/0_model_description\", \"w\") as outfile:\n",
    "        json.dump(dictForJson, outfile)\n",
    "        \n",
    "huinet.float()\n"
   ]
  },
  {
   "cell_type": "code",
   "execution_count": 8,
   "metadata": {},
   "outputs": [
    {
     "data": {
      "text/plain": [
       "device(type='cuda', index=0)"
      ]
     },
     "execution_count": 8,
     "metadata": {},
     "output_type": "execute_result"
    }
   ],
   "source": [
    "device = torch.device('cuda:0' if torch.cuda.is_available() else 'cpu')\n",
    "huinet = huinet.to(device)\n",
    "device"
   ]
  },
  {
   "cell_type": "code",
   "execution_count": 9,
   "metadata": {},
   "outputs": [],
   "source": [
    "loss = torch.nn.MSELoss()\n",
    "optimizer = torch.optim.Adam(huinet.parameters(), lr=1.0e-3)"
   ]
  },
  {
   "cell_type": "code",
   "execution_count": 13,
   "metadata": {},
   "outputs": [
    {
     "name": "stdout",
     "output_type": "stream",
     "text": [
      "50000\n"
     ]
    },
    {
     "name": "stderr",
     "output_type": "stream",
     "text": [
      "/home/youbot/.local/lib/python3.8/site-packages/torch/_tensor.py:586: UserWarning: non-inplace resize is deprecated\n",
      "  warnings.warn(\"non-inplace resize is deprecated\")\n"
     ]
    }
   ],
   "source": [
    "f = open(f\"../../Datasets/{DATASET_NAME}/labels.txt\")\n",
    "f = f.readlines()\n",
    "N = len(f)\n",
    "print(N)\n",
    "N_test = math.floor(0.98 * N)\n",
    "\n",
    "X_test = torch.zeros((N - N_test, 1, 256, 256))\n",
    "y_test = torch.zeros(N - N_test, 2)\n",
    "\n",
    "for i in range(N_test, N):\n",
    "    name, label = f[i].split()\n",
    "    label = torch.tensor(list(map(int, label.split(\"_\")[:2])))\n",
    "    y_test[i - N_test] += label\n",
    "    img = Image.open(f\"../../Datasets/{DATASET_NAME}/\" + name)\n",
    "    X_test[i - N_test] += torch.tensor(np.asarray(img)).resize(3, 256, 256)[0, :]"
   ]
  },
  {
   "cell_type": "code",
   "execution_count": 30,
   "metadata": {},
   "outputs": [],
   "source": [
    "def get_x_y(s):\n",
    "    y = torch.zeros((s,2))\n",
    "    x = torch.zeros((s,1,256,256))\n",
    "    for i in range(s):\n",
    "        name, label = f[i].split()\n",
    "        img = Image.open(f\"../../Datasets/{DATASET_NAME}/\" + name)\n",
    "        x[i] += torch.tensor(np.asarray(img)).reshape(3, 256, 256)[0, :]\n",
    "        label = torch.tensor(list(map(int, label.split(\"_\")[:2])))\n",
    "        y[i] += label\n",
    "    return x ,y"
   ]
  },
  {
   "cell_type": "code",
   "execution_count": 8,
   "metadata": {},
   "outputs": [
    {
     "name": "stderr",
     "output_type": "stream",
     "text": [
      "                                                   \r"
     ]
    },
    {
     "name": "stdout",
     "output_type": "stream",
     "text": [
      "Epoch: 1/1000 Accuracy: 0.03606069845080843 Time:129.11312556266785 Last loss: 0.024725457653403282\n"
     ]
    },
    {
     "name": "stderr",
     "output_type": "stream",
     "text": [
      "                                                   \r"
     ]
    },
    {
     "name": "stdout",
     "output_type": "stream",
     "text": [
      "Epoch: 2/1000 Accuracy: 0.02425208396968224 Time:123.98114705085754 Last loss: 0.022341668605804443\n"
     ]
    },
    {
     "name": "stderr",
     "output_type": "stream",
     "text": [
      "                                                   \r"
     ]
    },
    {
     "name": "stdout",
     "output_type": "stream",
     "text": [
      "Epoch: 3/1000 Accuracy: 0.022506120149502266 Time:123.49678587913513 Last loss: 0.021965060383081436\n"
     ]
    },
    {
     "name": "stderr",
     "output_type": "stream",
     "text": [
      "                                                   \r"
     ]
    },
    {
     "name": "stdout",
     "output_type": "stream",
     "text": [
      "Epoch: 4/1000 Accuracy: 0.021952277563200364 Time:125.80620121955872 Last loss: 0.021614953875541687\n"
     ]
    },
    {
     "name": "stderr",
     "output_type": "stream",
     "text": [
      "                                                   \r"
     ]
    },
    {
     "name": "stdout",
     "output_type": "stream",
     "text": [
      "Epoch: 5/1000 Accuracy: 0.02163676920319855 Time:126.3841347694397 Last loss: 0.022258399054408073\n"
     ]
    },
    {
     "name": "stderr",
     "output_type": "stream",
     "text": [
      "                                                   \r"
     ]
    },
    {
     "name": "stdout",
     "output_type": "stream",
     "text": [
      "Epoch: 6/1000 Accuracy: 0.02134212613243511 Time:125.02294278144836 Last loss: 0.021209223195910454\n"
     ]
    },
    {
     "name": "stderr",
     "output_type": "stream",
     "text": [
      "                                                   \r"
     ]
    },
    {
     "name": "stdout",
     "output_type": "stream",
     "text": [
      "Epoch: 7/1000 Accuracy: 0.021222947086619565 Time:125.36524486541748 Last loss: 0.021981256082654\n"
     ]
    },
    {
     "name": "stderr",
     "output_type": "stream",
     "text": [
      "                                                   \r"
     ]
    },
    {
     "name": "stdout",
     "output_type": "stream",
     "text": [
      "Epoch: 8/1000 Accuracy: 0.020924911922931798 Time:126.15121269226074 Last loss: 0.02208167314529419\n"
     ]
    },
    {
     "name": "stderr",
     "output_type": "stream",
     "text": [
      "                                                   \r"
     ]
    },
    {
     "name": "stdout",
     "output_type": "stream",
     "text": [
      "Epoch: 9/1000 Accuracy: 0.020887958831930672 Time:126.12147426605225 Last loss: 0.022322004660964012\n"
     ]
    },
    {
     "name": "stderr",
     "output_type": "stream",
     "text": [
      "                                                   \r"
     ]
    },
    {
     "name": "stdout",
     "output_type": "stream",
     "text": [
      "Epoch: 10/1000 Accuracy: 0.020711662262371658 Time:124.52455449104309 Last loss: 0.02136990986764431\n"
     ]
    },
    {
     "name": "stderr",
     "output_type": "stream",
     "text": [
      "                                                   \r"
     ]
    },
    {
     "name": "stdout",
     "output_type": "stream",
     "text": [
      "Epoch: 11/1000 Accuracy: 0.020939004358477037 Time:126.41538333892822 Last loss: 0.022180862724781036\n"
     ]
    },
    {
     "name": "stderr",
     "output_type": "stream",
     "text": [
      "                                                   \r"
     ]
    },
    {
     "name": "stdout",
     "output_type": "stream",
     "text": [
      "Epoch: 12/1000 Accuracy: 0.020550769512713993 Time:125.27375268936157 Last loss: 0.02231653966009617\n"
     ]
    },
    {
     "name": "stderr",
     "output_type": "stream",
     "text": [
      "                                                   \r"
     ]
    },
    {
     "name": "stdout",
     "output_type": "stream",
     "text": [
      "Epoch: 13/1000 Accuracy: 0.02046244072884752 Time:125.52145099639893 Last loss: 0.02251177653670311\n"
     ]
    },
    {
     "name": "stderr",
     "output_type": "stream",
     "text": [
      "                                                   \r"
     ]
    },
    {
     "name": "stdout",
     "output_type": "stream",
     "text": [
      "Epoch: 14/1000 Accuracy: 0.020438409002830428 Time:124.60500884056091 Last loss: 0.02200241945683956\n"
     ]
    },
    {
     "name": "stderr",
     "output_type": "stream",
     "text": [
      "                                                   \r"
     ]
    },
    {
     "name": "stdout",
     "output_type": "stream",
     "text": [
      "Epoch: 15/1000 Accuracy: 0.020339606348954205 Time:125.78733015060425 Last loss: 0.02189582958817482\n"
     ]
    },
    {
     "name": "stderr",
     "output_type": "stream",
     "text": [
      "                                                   \r"
     ]
    },
    {
     "name": "stdout",
     "output_type": "stream",
     "text": [
      "Epoch: 16/1000 Accuracy: 0.020298998724834018 Time:124.93037438392639 Last loss: 0.021821441128849983\n"
     ]
    },
    {
     "name": "stderr",
     "output_type": "stream",
     "text": [
      "                                                   \r"
     ]
    },
    {
     "ename": "KeyboardInterrupt",
     "evalue": "",
     "output_type": "error",
     "traceback": [
      "\u001b[0;31m---------------------------------------------------------------------------\u001b[0m",
      "\u001b[0;31mKeyboardInterrupt\u001b[0m                         Traceback (most recent call last)",
      "\u001b[1;32m/home/youbot/Documents/KirillVlad/rectangle_side-1.0.ipynb Cell 8\u001b[0m in \u001b[0;36m<cell line: 13>\u001b[0;34m()\u001b[0m\n\u001b[1;32m     <a href='vscode-notebook-cell://ssh-remote%2B192.168.1.108/home/youbot/Documents/KirillVlad/rectangle_side-1.0.ipynb#X10sdnNjb2RlLXJlbW90ZQ%3D%3D?line=32'>33</a>\u001b[0m preds \u001b[39m=\u001b[39m huinet\u001b[39m.\u001b[39mforward(X_batch)\n\u001b[1;32m     <a href='vscode-notebook-cell://ssh-remote%2B192.168.1.108/home/youbot/Documents/KirillVlad/rectangle_side-1.0.ipynb#X10sdnNjb2RlLXJlbW90ZQ%3D%3D?line=34'>35</a>\u001b[0m loss_value \u001b[39m=\u001b[39m loss(preds\u001b[39m/\u001b[39mnorm, y_batch\u001b[39m/\u001b[39mnorm)\n\u001b[0;32m---> <a href='vscode-notebook-cell://ssh-remote%2B192.168.1.108/home/youbot/Documents/KirillVlad/rectangle_side-1.0.ipynb#X10sdnNjb2RlLXJlbW90ZQ%3D%3D?line=35'>36</a>\u001b[0m current_losses\u001b[39m.\u001b[39mappend(loss_value\u001b[39m.\u001b[39;49mitem())\n\u001b[1;32m     <a href='vscode-notebook-cell://ssh-remote%2B192.168.1.108/home/youbot/Documents/KirillVlad/rectangle_side-1.0.ipynb#X10sdnNjb2RlLXJlbW90ZQ%3D%3D?line=36'>37</a>\u001b[0m loss_value\u001b[39m.\u001b[39mbackward()\n\u001b[1;32m     <a href='vscode-notebook-cell://ssh-remote%2B192.168.1.108/home/youbot/Documents/KirillVlad/rectangle_side-1.0.ipynb#X10sdnNjb2RlLXJlbW90ZQ%3D%3D?line=37'>38</a>\u001b[0m tb\u001b[39m.\u001b[39madd_scalar(\u001b[39m\"\u001b[39m\u001b[39mBatch\u001b[39m\u001b[39m\"\u001b[39m,loss_value\u001b[39m.\u001b[39mitem(), epoch \u001b[39m*\u001b[39m N_test\u001b[39m/\u001b[39m\u001b[39m/\u001b[39mbatch_size \u001b[39m+\u001b[39m start_index\u001b[39m/\u001b[39m\u001b[39m/\u001b[39mbatch_size)\n",
      "\u001b[0;31mKeyboardInterrupt\u001b[0m: "
     ]
    }
   ],
   "source": [
    "batch_size = 16\n",
    "N_epochs = 1000\n",
    "\n",
    "test_accuracy_history = []\n",
    "test_loss_history = []\n",
    "\n",
    "X_test = X_test.to(device)\n",
    "y_test = y_test.to(device)\n",
    "tb = SummaryWriter()\n",
    "\n",
    "norm =  torch.tensor([255, 255]).to(torch.device('cuda:0' if torch.cuda.is_available() else 'cpu'))\n",
    "\n",
    "for epoch in range(N_epochs):\n",
    "    order = np.random.permutation(N_test)\n",
    "    current_losses = []\n",
    "    time_start = time.time()\n",
    "    \n",
    "    for start_index in tqdm(range(0, N_test, batch_size),leave=False):\n",
    "        torch.cuda.empty_cache()\n",
    "        X_train = torch.zeros((batch_size,1,256,256))\n",
    "        y_train = torch.zeros((batch_size,2))\n",
    "        for i in range(start_index, start_index + batch_size):\n",
    "            name, label = f[i].split()\n",
    "            label = torch.tensor(list(map(int, label.split(\"_\")[:2])))\n",
    "            y_train[i%batch_size] += label\n",
    "            img = Image.open(f\"../../Datasets/{DATASET_NAME}/\" + name)\n",
    "            X_train[i%batch_size] += torch.tensor(np.asarray(img)).reshape(3, 256, 256)[0, :]\n",
    "        optimizer.zero_grad()\n",
    "\n",
    "        X_batch = X_train.to(device)\n",
    "        y_batch = y_train.to(device)\n",
    "\n",
    "        preds = huinet.forward(X_batch)\n",
    "\n",
    "        loss_value = loss(preds, y_batch)\n",
    "        current_losses.append(loss_value.item())\n",
    "        loss_value.backward()\n",
    "        tb.add_scalar(\"Batch\",loss_value.item(), epoch * N_test//batch_size + start_index//batch_size)\n",
    "\n",
    "        optimizer.step()\n",
    "        del X_train, y_train, label\n",
    "        torch.cuda.empty_cache()\n",
    "\n",
    "    test_preds = huinet.forward(X_test)\n",
    "    test_loss_history.append(loss(test_preds, y_test).item())\n",
    "    # # TODO: новая accuracy когда-нибудь\n",
    "    # # accuracy = (test_preds.argmax(dim=0) == y_test).float().mean().data.cpu()\n",
    "    accuracy = np.array(current_losses).mean()\n",
    "    test_accuracy_history.append(accuracy)\n",
    "    print(f\"Epoch: {epoch+start_epoch}/{start_epoch+N_epochs-1} Accuracy: {accuracy} Time:{time.time()-time_start} Last loss: {test_loss_history[-1]}\")\n",
    "    tb.add_scalar(\"Accuracy\",accuracy, epoch)\n",
    "    del test_preds, accuracy\n",
    "    torch.cuda.empty_cache()\n",
    "    torch.save(huinet.state_dict(), f\"States/{FOLDER_FOR_NETWORKS_EPOCH}/state{start_epoch + epoch}.txt\")"
   ]
  },
  {
   "cell_type": "code",
   "execution_count": 31,
   "metadata": {},
   "outputs": [],
   "source": [
    "def checkDrawingsForEpoche(epoch, drawing, base_img = None, test=True, color=(255,0,0)):\n",
    "    huinet = HuiNet()\n",
    "    huinet.float()\n",
    "    huinet.load_state_dict(torch.load(f\"States/{FOLDER_FOR_NETWORKS_EPOCH}/state{epoch}.txt\"))\n",
    "    huinet.eval()\n",
    "    huinet = huinet.to(device)\n",
    "    \n",
    "    X, Y = get_x_y(drawing + 16)\n",
    "    X = X.to(device)\n",
    "    Y = Y.to(device)\n",
    "\n",
    "    a = huinet.forward(X[drawing].reshape(1, 1,256,256)).cpu().detach().numpy().astype(dtype=int).reshape(-1).tolist()  #prediction\n",
    "    b = Y[drawing].cpu().detach().numpy().astype(dtype=int).tolist()  #label\n",
    "\n",
    "    #original filled with black color\n",
    "    if base_img is None:\n",
    "        whiteblankimage = 255 * np.ones(shape=[256, 256, 3], dtype=np.uint8)\n",
    "    else:\n",
    "        whiteblankimage = base_img\n",
    "\n",
    "    # rect = ((b[0], b[1]), (b[2], b[3]), b[4])\n",
    "    # box = cv2.boxPoints(rect)\n",
    "    # box = np.int0(box)\n",
    "    # cv2.drawContours(whiteblankimage,[box],0,(0,0,0),thickness=cv2.FILLED)\n",
    "    cv2.circle(whiteblankimage,(b[0],b[1]),15,(0,255,0),thickness=cv2.FILLED)\n",
    "    cv2.circle(whiteblankimage,(a[0],a[1]),10,(255,0,0))\n",
    "    #red contour of prediction\n",
    "    # rect = ((a[0], a[1]), (a[2], a[3]), a[4])\n",
    "    # box = cv2.boxPoints(rect)\n",
    "    # box = np.int0(box)\n",
    "    # cv2.drawContours(whiteblankimage,[box],0,color)\n",
    "\n",
    "    #saving and drawing\n",
    "    # cv2.imwrite(f'ImagesByEpoch/IM2.0/{drawing}_{epoch}.jpeg' , whiteblankimage)\n",
    "    return whiteblankimage"
   ]
  },
  {
   "cell_type": "code",
   "execution_count": 32,
   "metadata": {},
   "outputs": [
    {
     "data": {
      "image/png": "[encoded data removed]",
      "text/plain": [
       "<Figure size 640x480 with 16 Axes>"
      ]
     },
     "metadata": {},
     "output_type": "display_data"
    }
   ],
   "source": [
    "e, d = 20,1\n",
    "fig, axs = plt.subplots(4,4)\n",
    "\n",
    "for i in range(4):\n",
    "    for j in range(4):\n",
    "        # aa = 0\n",
    "        result = checkDrawingsForEpoche(epoch = 1, drawing=d + i*4 + j)\n",
    "        result = checkDrawingsForEpoche(epoch = e, drawing=d + i*4 + j, base_img=result, color=(0,0,255))\n",
    "        axs[i][j].imshow(result)\n",
    "str_ = str(f\"red - random blue - {e}\")\n",
    "fig.legend(str_, loc='upper center')\n",
    "plt.show()"
   ]
  },
  {
   "cell_type": "code",
   "execution_count": null,
   "metadata": {},
   "outputs": [],
   "source": []
  }
 ],
 "metadata": {
  "kernelspec": {
   "display_name": "Python 3.8.10 64-bit",
   "language": "python",
   "name": "python3"
  },
  "language_info": {
   "codemirror_mode": {
    "name": "ipython",
    "version": 3
   },
   "file_extension": ".py",
   "mimetype": "text/x-python",
   "name": "python",
   "nbconvert_exporter": "python",
   "pygments_lexer": "ipython3",
   "version": "3.8.10"
  },
  "orig_nbformat": 4,
  "vscode": {
   "interpreter": {
    "hash": "31f2aee4e71d21fbe5cf8b01ff0e069b9275f58929596ceb00d14d90e3e16cd6"
   }
  }
 },
 "nbformat": 4,
 "nbformat_minor": 2
}
